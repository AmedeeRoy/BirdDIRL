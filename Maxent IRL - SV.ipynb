{
 "cells": [
  {
   "cell_type": "markdown",
   "metadata": {},
   "source": [
    "# IRL\n",
    "\n",
    "Easy game formalism :\n",
    "\n",
    "- States = (x, t)\n",
    "- Action = (&uarr;, &darr;, &rarr;, &larr;)\n",
    "- Reward = r(x)"
   ]
  },
  {
   "cell_type": "code",
   "execution_count": 1,
   "metadata": {},
   "outputs": [],
   "source": [
    "# import python libraries\n",
    "import sqlite3\n",
    "import pandas as pd\n",
    "import pickle\n",
    "import netCDF4\n",
    "import numpy as np\n",
    "import matplotlib.pyplot as plt\n",
    "import mdptoolbox\n",
    "\n",
    "FLOAT_MAX = 1e30"
   ]
  },
  {
   "cell_type": "code",
   "execution_count": 2,
   "metadata": {},
   "outputs": [
    {
     "data": {
      "text/html": [
       "<div>\n",
       "<style scoped>\n",
       "    .dataframe tbody tr th:only-of-type {\n",
       "        vertical-align: middle;\n",
       "    }\n",
       "\n",
       "    .dataframe tbody tr th {\n",
       "        vertical-align: top;\n",
       "    }\n",
       "\n",
       "    .dataframe thead th {\n",
       "        text-align: right;\n",
       "    }\n",
       "</style>\n",
       "<table border=\"1\" class=\"dataframe\">\n",
       "  <thead>\n",
       "    <tr style=\"text-align: right;\">\n",
       "      <th></th>\n",
       "      <th>bird</th>\n",
       "      <th>trip</th>\n",
       "      <th>datetime</th>\n",
       "      <th>lon</th>\n",
       "      <th>lat</th>\n",
       "    </tr>\n",
       "    <tr>\n",
       "      <th>trip</th>\n",
       "      <th></th>\n",
       "      <th></th>\n",
       "      <th></th>\n",
       "      <th></th>\n",
       "      <th></th>\n",
       "    </tr>\n",
       "  </thead>\n",
       "  <tbody>\n",
       "    <tr>\n",
       "      <th>P1108_1_SV_T1</th>\n",
       "      <td>P1108_1_SV</td>\n",
       "      <td>P1108_1_SV_T1</td>\n",
       "      <td>2008-11-23 12:53:38</td>\n",
       "      <td>-77.265178</td>\n",
       "      <td>-11.775134</td>\n",
       "    </tr>\n",
       "    <tr>\n",
       "      <th>P1108_1_SV_T1</th>\n",
       "      <td>P1108_1_SV</td>\n",
       "      <td>P1108_1_SV_T1</td>\n",
       "      <td>2008-11-23 12:53:39</td>\n",
       "      <td>-77.265222</td>\n",
       "      <td>-11.775064</td>\n",
       "    </tr>\n",
       "    <tr>\n",
       "      <th>P1108_1_SV_T1</th>\n",
       "      <td>P1108_1_SV</td>\n",
       "      <td>P1108_1_SV_T1</td>\n",
       "      <td>2008-11-23 12:53:40</td>\n",
       "      <td>-77.265312</td>\n",
       "      <td>-11.774998</td>\n",
       "    </tr>\n",
       "    <tr>\n",
       "      <th>P1108_1_SV_T1</th>\n",
       "      <td>P1108_1_SV</td>\n",
       "      <td>P1108_1_SV_T1</td>\n",
       "      <td>2008-11-23 12:53:41</td>\n",
       "      <td>-77.265384</td>\n",
       "      <td>-11.774966</td>\n",
       "    </tr>\n",
       "    <tr>\n",
       "      <th>P1108_1_SV_T1</th>\n",
       "      <td>P1108_1_SV</td>\n",
       "      <td>P1108_1_SV_T1</td>\n",
       "      <td>2008-11-23 12:53:42</td>\n",
       "      <td>-77.265506</td>\n",
       "      <td>-11.774930</td>\n",
       "    </tr>\n",
       "  </tbody>\n",
       "</table>\n",
       "</div>"
      ],
      "text/plain": [
       "                     bird           trip             datetime        lon  \\\n",
       "trip                                                                       \n",
       "P1108_1_SV_T1  P1108_1_SV  P1108_1_SV_T1  2008-11-23 12:53:38 -77.265178   \n",
       "P1108_1_SV_T1  P1108_1_SV  P1108_1_SV_T1  2008-11-23 12:53:39 -77.265222   \n",
       "P1108_1_SV_T1  P1108_1_SV  P1108_1_SV_T1  2008-11-23 12:53:40 -77.265312   \n",
       "P1108_1_SV_T1  P1108_1_SV  P1108_1_SV_T1  2008-11-23 12:53:41 -77.265384   \n",
       "P1108_1_SV_T1  P1108_1_SV  P1108_1_SV_T1  2008-11-23 12:53:42 -77.265506   \n",
       "\n",
       "                     lat  \n",
       "trip                      \n",
       "P1108_1_SV_T1 -11.775134  \n",
       "P1108_1_SV_T1 -11.775064  \n",
       "P1108_1_SV_T1 -11.774998  \n",
       "P1108_1_SV_T1 -11.774966  \n",
       "P1108_1_SV_T1 -11.774930  "
      ]
     },
     "execution_count": 2,
     "metadata": {},
     "output_type": "execute_result"
    }
   ],
   "source": [
    "conn = sqlite3.connect('/home/amdroy/MEGA/DATA/seabirdbank.db')\n",
    "\n",
    "request = \"SELECT DISTINCT  bird.id as bird, trip.id as trip, gps.datetime, gps.lon, gps.lat FROM gps \\\n",
    "INNER JOIN trip ON gps.trip = trip.id \\\n",
    "INNER JOIN bird ON trip.bird = bird.id \\\n",
    "WHERE bird.fieldwork = 'P1108' \\\n",
    "AND bird.species = 'SV'\"\n",
    "\n",
    "df = pd.read_sql_query(request, conn)\n",
    "df = df.set_index(\"trip\", drop = False)\n",
    "df.head()"
   ]
  },
  {
   "cell_type": "code",
   "execution_count": 3,
   "metadata": {},
   "outputs": [
    {
     "data": {
      "text/plain": [
       "array([[-77.825636, -77.170076],\n",
       "       [-12.095462, -11.320248]])"
      ]
     },
     "execution_count": 3,
     "metadata": {},
     "output_type": "execute_result"
    }
   ],
   "source": [
    "bbox = np.array([ [df['lon'].min(), df['lon'].max()], [df['lat'].min(), df['lat'].max()]])\n",
    "bbox"
   ]
  },
  {
   "cell_type": "code",
   "execution_count": 4,
   "metadata": {},
   "outputs": [],
   "source": [
    "class Dataset:\n",
    "    def __init__(self, lon, lat, rule):\n",
    "\n",
    "        self.lon = lon\n",
    "        self.lat = lat[::-1]\n",
    "        self.rule = rule\n",
    "\n",
    "        self.height = len(self.lat)\n",
    "        self.width = len(self.lon)\n",
    "\n",
    "        self.size = (len(lat), len(lon))\n",
    "        \n",
    "        self.grid = np.array([[(lon, lat) for lon in self.lon] for lat in self.lat])\n",
    "        self.grid_lon = np.array([[lon for lon in self.lon] for lat in self.lat])\n",
    "        self.grid_lat = np.array([[lat for lon in self.lon] for lat in self.lat])\n",
    "        \n",
    "        self.trajs = []\n",
    "        self.trajs_name = []\n",
    "        \n",
    "        self.feature = []\n",
    "        self.feature_name = []\n",
    "        \n",
    "    # UTILS ----------------------------------------\n",
    "    def coord2idx(self, coord):\n",
    "        return (np.argmin(abs(self.lat - coord[1])), np.argmin(abs(self.lon - coord[0])))\n",
    "\n",
    "    def idx2coord(self, idx):\n",
    "        return self.grid[idx]\n",
    "    \n",
    "    # ADDING TRAJECTORY ----------------------------------------\n",
    "    def add_trajectory(self, traj, name):\n",
    "        # Resample Hourly\n",
    "        traj = traj.set_index('datetime').resample(self.rule).mean()\n",
    "        traj['time'] = np.arange(len(traj))\n",
    "        state = [(np.argmin(abs(self.lat - traj.lat[i])), np.argmin(abs(self.lon - traj.lon[i])))\n",
    "                 for i in range(traj.shape[0])]  \n",
    "        \n",
    "        idx = 0\n",
    "        begin = state[0]\n",
    "        s = state[idx]\n",
    "\n",
    "        while s == begin:\n",
    "            idx+=1\n",
    "            if idx < len(state):\n",
    "                s = state[idx]\n",
    "            else :\n",
    "                break\n",
    "\n",
    "\n",
    "        begin_idx = idx-1\n",
    "\n",
    "        while s != begin:\n",
    "            idx+=1\n",
    "            if idx < len(state):\n",
    "                s = state[idx]\n",
    "            else :\n",
    "                break\n",
    "\n",
    "        end_idx = idx+1\n",
    "\n",
    "        test = True\n",
    "        if len(np.unique(state))==2:\n",
    "            print('Trip Removed - No movement observable')\n",
    "            test = False\n",
    "\n",
    "        if state[0] != state[-1]:\n",
    "            print('Trip Removed - No return to colony')\n",
    "            test = False\n",
    "    \n",
    "        if test:\n",
    "            new_state = state[begin_idx:end_idx]\n",
    "            new_state = [(i, state[i][0], state[i][1]) for i in range(len(new_state))]\n",
    "            \n",
    "            print('Trip Added - ' + name)\n",
    "            self.trajs_name.append(name)\n",
    "            self.trajs.append(new_state)\n",
    "    \n",
    "    def fix_max_length(self, length):\n",
    "        self.length = length\n",
    "        self.trajs = [t for t in self.trajs if len(t) < length]\n",
    "            \n",
    "        for t in self.trajs:\n",
    "            final_state = t[-1]\n",
    "            final_state = (length-1, final_state[1], final_state[2])\n",
    "            t[-1] = final_state\n",
    "            \n",
    "        \n",
    "    def show_trajectory(self, i):\n",
    "        grid = 0*self.grid_lon\n",
    "        for step in self.trajs[i]:\n",
    "            grid[step[1], step[2]] = 1\n",
    "        return grid\n",
    "    \n",
    "    def show_trajectory_density_all(self):\n",
    "        grid = 0*self.grid_lon\n",
    "        for v in self.trajs:\n",
    "            for step in v:\n",
    "                grid[step[1], step[2]] += 1\n",
    "        return grid\n",
    "    \n",
    "        \n",
    "    # ADDING FEATURE MAPS ----------------------------------------\n",
    "    def format_feature(self, lon, lat, grid):\n",
    "\n",
    "        lon_min = min(self.lon)\n",
    "        lon_max = max(self.lon)\n",
    "        lat_min = min(self.lat)\n",
    "        lat_max = max(self.lat)\n",
    "\n",
    "        j_min = np.argmin(abs(lon[:] - lon_min)) - 1\n",
    "        j_max = np.argmin(abs(lon[:] - lon_max)) + 1\n",
    "        i_max = np.argmin(abs(lat[:] - lat_min)) + 1\n",
    "        i_min = np.argmin(abs(lat[:] - lat_max)) - 1\n",
    "\n",
    "        y = lon[j_min:j_max]\n",
    "        x = lat[i_min:i_max]\n",
    "        grid = grid[i_min:i_max, j_min:j_max]\n",
    "\n",
    "        feature = np.zeros(self.size)\n",
    "        xx = np.array([[self.lat[np.argmin(abs(self.lat - i))] for j in y] for i in x])\n",
    "        yy = np.array([[self.lon[np.argmin(abs(self.lon - j))] for j in y] for i in x])\n",
    "\n",
    "        for i in range(len(self.lat)):\n",
    "            for j in range(len(self.lon)):\n",
    "                feature[i,j] = np.mean(grid[(yy == self.lon[j]) * (xx == self.lat[i])])\n",
    "\n",
    "        return feature\n",
    "\n",
    "    def normalize_feature(self):\n",
    "        for i in range(len(self.feature)):\n",
    "            value = self.feature[i]\n",
    "            if not np.max(value) - np.min(value) == 0:\n",
    "                self.feature[i] = (value - np.max(value)) / (np.max(value) - np.min(value))\n",
    "            else:\n",
    "                self.feature[i] = -0.5*np.ones(self.size)\n",
    "\n",
    "\n",
    "    def add_feature(self, x, y, grid, name):\n",
    "        self.feature_name.append(name)\n",
    "        self.feature.append(self.format_feature(x,y,grid))\n",
    "        \n",
    "    def show_feature(self, i):\n",
    "        plt.imshow(self.feature[i])\n",
    "        plt.show()\n",
    "    \n",
    "    def show_feature_all(self):\n",
    "        fig, axs = plt.subplots(1,len(self.feature))\n",
    "        i = 0\n",
    "        for k in self.feature.keys():\n",
    "            axs[i].imshow(self.feature[k])\n",
    "            i += 1\n",
    "        plt.show()"
   ]
  },
  {
   "cell_type": "code",
   "execution_count": 5,
   "metadata": {},
   "outputs": [],
   "source": [
    "data = Dataset(np.arange(-77.9, -77.1, 0.2), np.arange(-12.1, -11.3, 0.2), rule = '15min')"
   ]
  },
  {
   "cell_type": "code",
   "execution_count": 6,
   "metadata": {
    "scrolled": true
   },
   "outputs": [
    {
     "name": "stdout",
     "output_type": "stream",
     "text": [
      "Trip Removed - No movement observable\n",
      "Trip Removed - No return to colony\n",
      "Trip Added - P1108_2_SV_T1\n",
      "Trip Added - P1108_2_SV_T2\n",
      "Trip Removed - No return to colony\n",
      "Trip Removed - No movement observable\n",
      "Trip Removed - No movement observable\n",
      "Trip Removed - No movement observable\n",
      "Trip Added - P1108_4_SV_T1\n",
      "Trip Added - P1108_4_SV_T2\n",
      "Trip Removed - No movement observable\n",
      "Trip Added - P1108_5_SV_T2\n",
      "Trip Added - P1108_6_SV_T1\n",
      "Trip Added - P1108_6_SV_T2\n",
      "Trip Removed - No movement observable\n",
      "Trip Added - P1108_7_SV_T2\n",
      "Trip Added - P1108_8_SV_T1\n",
      "Trip Removed - No movement observable\n",
      "Trip Removed - No return to colony\n",
      "Trip Removed - No return to colony\n",
      "Trip Added - P1108_11_SV_T1\n",
      "Trip Removed - No movement observable\n",
      "Trip Added - P1108_12_SV_T1\n",
      "Trip Added - P1108_13_SV_T1\n",
      "Trip Added - P1108_13_SV_T2\n",
      "Trip Removed - No return to colony\n",
      "Trip Removed - No movement observable\n",
      "Trip Added - P1108_14_SV_T3\n",
      "Trip Removed - No return to colony\n",
      "Trip Removed - No movement observable\n",
      "Trip Removed - No movement observable\n",
      "Trip Added - P1108_19_SV_T1\n",
      "Trip Added - P1108_19_SV_T2\n",
      "Trip Removed - No movement observable\n",
      "Trip Removed - No movement observable\n",
      "Trip Added - P1108_20_SV_T3\n",
      "Trip Removed - No return to colony\n",
      "Trip Added - P1108_21_SV_T1\n",
      "Trip Removed - No movement observable\n",
      "Trip Removed - No return to colony\n",
      "Trip Removed - No movement observable\n",
      "Trip Added - P1108_22_SV_T2\n",
      "Trip Removed - No return to colony\n",
      "Trip Removed - No return to colony\n",
      "Trip Added - P1108_24_SV_T2\n",
      "Trip Removed - No movement observable\n",
      "Trip Added - P1108_24_SV_T4\n",
      "Trip Added - P1108_25_SV_T1\n",
      "Trip Added - P1108_25_SV_T2\n",
      "Trip Removed - No return to colony\n",
      "Trip Added - P1108_25_SV_T4\n",
      "Trip Added - P1108_26_SV_T1\n",
      "Trip Removed - No return to colony\n",
      "Trip Added - P1108_27_SV_T2\n",
      "Trip Added - P1108_27_SV_T3\n",
      "Trip Added - P1108_27_SV_T4\n",
      "Trip Removed - No movement observable\n",
      "Trip Removed - No movement observable\n",
      "Trip Removed - No movement observable\n",
      "Trip Added - P1108_28_SV_T2\n",
      "Trip Removed - No return to colony\n",
      "Trip Removed - No return to colony\n",
      "Trip Added - P1108_29_SV_T3\n",
      "Trip Added - P1108_29_SV_T4\n",
      "Trip Added - P1108_30_SV_T1\n",
      "Trip Removed - No movement observable\n",
      "Trip Added - P1108_30_SV_T3\n",
      "Trip Removed - No return to colony\n",
      "Trip Removed - No movement observable\n",
      "Trip Added - P1108_31_SV_T3\n",
      "Trip Added - P1108_31_SV_T4\n",
      "Trip Removed - No movement observable\n",
      "Trip Added - P1108_33_SV_T1\n",
      "Trip Removed - No movement observable\n",
      "Trip Removed - No movement observable\n",
      "Trip Removed - No movement observable\n",
      "Trip Removed - No movement observable\n",
      "Trip Removed - No movement observable\n",
      "Trip Removed - No movement observable\n",
      "Trip Removed - No movement observable\n",
      "Trip Removed - No movement observable\n",
      "Trip Added - P1108_35_SV_T2\n",
      "Trip Added - P1108_36_SV_T1\n",
      "Trip Removed - No movement observable\n",
      "Trip Removed - No movement observable\n",
      "Trip Removed - No movement observable\n",
      "Trip Added - P1108_37_SV_T2\n",
      "Trip Added - P1108_37_SV_T3\n",
      "Trip Removed - No movement observable\n",
      "Trip Removed - No movement observable\n",
      "Trip Removed - No movement observable\n",
      "Trip Added - P1108_38_SV_T4\n",
      "Trip Added - P1108_38_SV_T5\n",
      "Trip Removed - No movement observable\n",
      "Trip Removed - No movement observable\n",
      "Trip Removed - No movement observable\n",
      "Trip Removed - No movement observable\n",
      "Trip Added - P1108_40_SV_T3\n",
      "Trip Added - P1108_40_SV_T4\n",
      "Trip Removed - No movement observable\n",
      "Trip Removed - No movement observable\n",
      "Trip Added - P1108_41_SV_T3\n",
      "Trip Added - P1108_41_SV_T4\n",
      "Trip Added - P1108_41_SV_T5\n",
      "Trip Removed - No movement observable\n",
      "Trip Added - P1108_42_SV_T2\n",
      "Trip Added - P1108_42_SV_T3\n",
      "Trip Added - P1108_42_SV_T4\n",
      "Trip Removed - No movement observable\n",
      "Trip Removed - No return to colony\n",
      "Trip Added - P1108_43_SV_T2\n",
      "Trip Added - P1108_43_SV_T3\n",
      "Trip Removed - No movement observable\n",
      "Trip Removed - No movement observable\n",
      "Trip Removed - No movement observable\n",
      "Trip Added - P1108_43_SV_T7\n",
      "Trip Added - P1108_43_SV_T8\n",
      "Trip Removed - No movement observable\n",
      "Trip Removed - No movement observable\n",
      "Trip Added - P1108_44_SV_T3\n",
      "Trip Added - P1108_46_SV_T1\n",
      "Trip Added - P1108_46_SV_T2\n",
      "Trip Added - P1108_46_SV_T3\n",
      "Trip Added - P1108_46_SV_T4\n",
      "Trip Removed - No movement observable\n",
      "Trip Added - P1108_47_SV_T2\n",
      "Trip Added - P1108_47_SV_T3\n",
      "Trip Removed - No movement observable\n",
      "Trip Removed - No movement observable\n",
      "Trip Removed - No movement observable\n",
      "Trip Added - P1108_47_SV_T7\n",
      "Trip Removed - No movement observable\n",
      "Trip Removed - No movement observable\n",
      "Trip Removed - No movement observable\n",
      "Trip Added - P1108_48_SV_T2\n",
      "Trip Added - P1108_48_SV_T3\n",
      "Trip Removed - No movement observable\n",
      "Trip Added - P1108_48_SV_T5\n",
      "Trip Removed - No movement observable\n",
      "Trip Removed - No movement observable\n",
      "Trip Added - P1108_49_SV_T3\n",
      "Trip Removed - No movement observable\n",
      "Trip Removed - No movement observable\n",
      "Trip Removed - No movement observable\n"
     ]
    }
   ],
   "source": [
    "for t in df.trip.unique():\n",
    "    traj = df[df.trip == t].copy()\n",
    "    traj['datetime'] = pd.to_datetime(traj['datetime'], format='%Y-%m-%d %H:%M:%S')\n",
    "\n",
    "    data.add_trajectory(traj, t)"
   ]
  },
  {
   "cell_type": "code",
   "execution_count": 7,
   "metadata": {
    "scrolled": true
   },
   "outputs": [
    {
     "data": {
      "text/plain": [
       "(array([12.,  0., 13.,  0., 11.,  0., 10.,  0.,  8.,  5.]),\n",
       " array([3. , 3.5, 4. , 4.5, 5. , 5.5, 6. , 6.5, 7. , 7.5, 8. ]),\n",
       " <a list of 10 Patch objects>)"
      ]
     },
     "execution_count": 7,
     "metadata": {},
     "output_type": "execute_result"
    },
    {
     "data": {
      "image/png": "[encoded data removed]",
      "text/plain": [
       "<Figure size 432x288 with 1 Axes>"
      ]
     },
     "metadata": {
      "needs_background": "light"
     },
     "output_type": "display_data"
    }
   ],
   "source": [
    "data.fix_max_length(10)\n",
    "plt.hist([len(t) for t in data.trajs])"
   ]
  },
  {
   "cell_type": "code",
   "execution_count": 8,
   "metadata": {},
   "outputs": [
    {
     "data": {
      "text/plain": [
       "<matplotlib.image.AxesImage at 0x7f7140e3b450>"
      ]
     },
     "execution_count": 8,
     "metadata": {},
     "output_type": "execute_result"
    },
    {
     "data": {
      "image/png": "[encoded data removed]",
      "text/plain": [
       "<Figure size 432x288 with 1 Axes>"
      ]
     },
     "metadata": {
      "needs_background": "light"
     },
     "output_type": "display_data"
    }
   ],
   "source": [
    "plt.imshow(data.show_trajectory(1))"
   ]
  },
  {
   "cell_type": "code",
   "execution_count": 9,
   "metadata": {},
   "outputs": [
    {
     "data": {
      "text/plain": [
       "<matplotlib.image.AxesImage at 0x7f71409bf890>"
      ]
     },
     "execution_count": 9,
     "metadata": {},
     "output_type": "execute_result"
    },
    {
     "data": {
      "image/png": "[encoded data removed]",
      "text/plain": [
       "<Figure size 432x288 with 1 Axes>"
      ]
     },
     "metadata": {
      "needs_background": "light"
     },
     "output_type": "display_data"
    }
   ],
   "source": [
    "plt.imshow(data.show_trajectory_density_all())"
   ]
  },
  {
   "cell_type": "code",
   "execution_count": 10,
   "metadata": {},
   "outputs": [],
   "source": [
    "# import specific Map -------------------------\n",
    "with open('./feature/bathy', 'rb') as f:\n",
    "    grid = pickle.load(f)\n",
    "    lon = pickle.load(f)\n",
    "    lat = pickle.load(f)\n",
    "data.add_feature(lon, lat, grid, 'bathy')\n",
    "\n",
    "with open('./feature/chlorophyll', 'rb') as f:\n",
    "    grid = pickle.load(f)\n",
    "    lon = pickle.load(f)\n",
    "    lat = pickle.load(f)\n",
    "data.add_feature(lon, lat, grid, 'chlorophyll')\n",
    "\n",
    "with open('./feature/dist_to_coast', 'rb') as f:\n",
    "    grid = pickle.load(f)\n",
    "    lon = pickle.load(f)\n",
    "    lat = pickle.load(f)\n",
    "data.add_feature(lon, lat, -np.log(grid), 'dist_to_coast')\n",
    "\n",
    "with open('./feature/dist_to_colony', 'rb') as f:\n",
    "    grid = pickle.load(f)\n",
    "    lon = pickle.load(f)\n",
    "    lat = pickle.load(f)\n",
    "data.add_feature(lon, lat, -np.log(grid), 'dist_to_colony')\n",
    "\n",
    "with open('./feature/landmask', 'rb') as f:\n",
    "    grid = pickle.load(f)\n",
    "    lon = pickle.load(f)\n",
    "    lat = pickle.load(f)\n",
    "data.add_feature(lon, lat, -grid, 'landmask')\n"
   ]
  },
  {
   "cell_type": "code",
   "execution_count": 11,
   "metadata": {},
   "outputs": [
    {
     "data": {
      "image/png": "[encoded data removed]",
      "text/plain": [
       "<Figure size 432x288 with 1 Axes>"
      ]
     },
     "metadata": {
      "needs_background": "light"
     },
     "output_type": "display_data"
    }
   ],
   "source": [
    "data.normalize_feature()\n",
    "data.show_feature(1)"
   ]
  },
  {
   "cell_type": "code",
   "execution_count": 12,
   "metadata": {},
   "outputs": [],
   "source": [
    "# Gridworld provides a basic environment for RL agents to interact with\n",
    "\n",
    "class GridWorld:\n",
    "    \"\"\"\n",
    "    Grid world environment\n",
    "    \"\"\"\n",
    "    \n",
    "    def __init__(self, length_max, height, width, start_pos):\n",
    "        \"\"\"\n",
    "            input: \n",
    "            height - idx : height of the spatial grid\n",
    "            width - idx : width of the spatial grid\n",
    "            length - idx : temporal length of a trip\n",
    "            \n",
    "            start_pos 2-tuple : coordinates within the state_space (height x width)\n",
    "            \n",
    "        \"\"\"\n",
    "        self.height = height\n",
    "        self.width = width\n",
    "        self.length_max = length_max\n",
    "        \n",
    "        self.start = (0, start_pos[0], start_pos[1])\n",
    "        self.end = (length_max-1, start_pos[0], start_pos[1])\n",
    "        \n",
    "        self.n_states = self.height*self.width*self.length_max\n",
    "        \n",
    "        self.actions = [0, 1, 2, 3, 4, 5, 6, 7, 8]\n",
    "        self.n_actions = len(self.actions)\n",
    "        self.neighbors = [(0, 0),(-1, 0),(-1, 1),(0, 1),(1, 1),(1, 0),(1, -1),(0, -1),(-1, -1)]\n",
    "        self.dirs = {0: 'stay', 1: 'n', 2: 'ne', 3: 'e', 4: 'se', 5: 's', 6: 'sw', 7: 'w', 8: 'nw'}\n",
    "    \n",
    "    def get_grid_idx(self):\n",
    "        return np.array(range(self.n_states)).reshape((self.length_max, self.height, self.width))\n",
    "    \n",
    "    def get_list_state(self):\n",
    "        return [(i,j,k) for i in range(self.length_max) for j in range(self.height) for k in range(self.width)]\n",
    "    \n",
    "    def state2idx(self, state):\n",
    "        \"\"\"\n",
    "        input:\n",
    "          2d state\n",
    "        returns:\n",
    "          1d index\n",
    "        \"\"\"\n",
    "        return self.get_grid_idx()[state]\n",
    "\n",
    "    def idx2state(self, idx):\n",
    "        \"\"\"\n",
    "        input:\n",
    "          1d idx\n",
    "        returns:\n",
    "          2d state\n",
    "        \"\"\"\n",
    "        return self.get_list_state()[idx]\n",
    "           \n",
    "    def get_next_state(self, state, action):\n",
    "        \"\"\"\n",
    "        get next state with [action] on [state]\n",
    "        args\n",
    "          state     (z, y, x)\n",
    "          action    int\n",
    "        returns\n",
    "          new state\n",
    "        \"\"\"\n",
    "        ## force move at first step\n",
    "        if (action == 0) and (state[0] == 0):\n",
    "            act = np.random.randint(1, self.n_actions)\n",
    "        else :\n",
    "            act = action\n",
    "                \n",
    "        if state[0] >= self.length_max-1:\n",
    "            return state\n",
    "        else :\n",
    "            inc = self.neighbors[act]\n",
    "            nei_s = (state[1] + inc[0], state[2] + inc[1])\n",
    "            if nei_s[0] >= 0 and nei_s[0] < self.height and nei_s[1] >= 0 and nei_s[1] < self.width:\n",
    "                next_state = (state[0] + 1, nei_s[0], nei_s[1])\n",
    "            else:\n",
    "                next_state = (state[0] + 1, state[1], state[2])\n",
    "                \n",
    "            ## finish when back to colony\n",
    "            if (next_state[1] == self.start[1]) and (next_state[2] == self.start[2]) and (next_state[0]>1) and (next_state[0]<self.length_max-1):\n",
    "                next_state = self.end                \n",
    "            return next_state\n",
    "\n",
    "    def get_list_previous_state(self, state):\n",
    "        \"\"\"\n",
    "        args\n",
    "          state     (z, y, x)\n",
    "        returns\n",
    "          tuple\n",
    "              - previous state (z, y, x)\n",
    "              - associated action int\n",
    "        \"\"\"\n",
    "        previous = []\n",
    "        for a in self.actions:\n",
    "            inc = self.neighbors[a]\n",
    "            nei_s = (state[1] - inc[0], state[2] - inc[1])\n",
    "\n",
    "            if nei_s[0] >= 0 and nei_s[0] < self.height and nei_s[1] >= 0 and nei_s[1] < self.width:\n",
    "                previous_state = (state[0] - 1, nei_s[0], nei_s[1])\n",
    "                previous.append((previous_state,a))\n",
    "        return previous\n",
    "\n",
    "    def get_transition_mat(self):\n",
    "        \"\"\"\n",
    "        get transition dynamics of the gridworld\n",
    "        return:\n",
    "          P_a         NxNxN_ACTIONS transition probabilities matrix - \n",
    "                        P_a[s0, s1, a] is the transition prob of \n",
    "                        landing at state s1 when taking action \n",
    "                        a at state s0\n",
    "        \"\"\"\n",
    "        P_a = np.zeros((self.n_states, self.n_states, self.n_actions))\n",
    "        \n",
    "        for i in range(self.n_states):\n",
    "            si = self.idx2state(i)\n",
    "            for a in range(self.n_actions):\n",
    "                sj = self.get_next_state(si,a)\n",
    "                j = self.state2idx(sj)\n",
    "                P_a[i, j, a] = 1                \n",
    "        return P_a"
   ]
  },
  {
   "cell_type": "code",
   "execution_count": 13,
   "metadata": {},
   "outputs": [
    {
     "data": {
      "text/plain": [
       "(1, 3)"
      ]
     },
     "execution_count": 13,
     "metadata": {},
     "output_type": "execute_result"
    }
   ],
   "source": [
    "start_pos = (data.trajs[0][0][1], data.trajs[0][0][2])\n",
    "start_pos"
   ]
  },
  {
   "cell_type": "code",
   "execution_count": 14,
   "metadata": {
    "scrolled": true
   },
   "outputs": [],
   "source": [
    "g = GridWorld(data.length, data.height, data.width, start_pos)"
   ]
  },
  {
   "cell_type": "code",
   "execution_count": 15,
   "metadata": {
    "scrolled": true
   },
   "outputs": [
    {
     "data": {
      "text/plain": [
       "array([[[  0,   1,   2,   3,   4],\n",
       "        [  5,   6,   7,   8,   9],\n",
       "        [ 10,  11,  12,  13,  14],\n",
       "        [ 15,  16,  17,  18,  19]],\n",
       "\n",
       "       [[ 20,  21,  22,  23,  24],\n",
       "        [ 25,  26,  27,  28,  29],\n",
       "        [ 30,  31,  32,  33,  34],\n",
       "        [ 35,  36,  37,  38,  39]],\n",
       "\n",
       "       [[ 40,  41,  42,  43,  44],\n",
       "        [ 45,  46,  47,  48,  49],\n",
       "        [ 50,  51,  52,  53,  54],\n",
       "        [ 55,  56,  57,  58,  59]],\n",
       "\n",
       "       [[ 60,  61,  62,  63,  64],\n",
       "        [ 65,  66,  67,  68,  69],\n",
       "        [ 70,  71,  72,  73,  74],\n",
       "        [ 75,  76,  77,  78,  79]],\n",
       "\n",
       "       [[ 80,  81,  82,  83,  84],\n",
       "        [ 85,  86,  87,  88,  89],\n",
       "        [ 90,  91,  92,  93,  94],\n",
       "        [ 95,  96,  97,  98,  99]],\n",
       "\n",
       "       [[100, 101, 102, 103, 104],\n",
       "        [105, 106, 107, 108, 109],\n",
       "        [110, 111, 112, 113, 114],\n",
       "        [115, 116, 117, 118, 119]],\n",
       "\n",
       "       [[120, 121, 122, 123, 124],\n",
       "        [125, 126, 127, 128, 129],\n",
       "        [130, 131, 132, 133, 134],\n",
       "        [135, 136, 137, 138, 139]],\n",
       "\n",
       "       [[140, 141, 142, 143, 144],\n",
       "        [145, 146, 147, 148, 149],\n",
       "        [150, 151, 152, 153, 154],\n",
       "        [155, 156, 157, 158, 159]],\n",
       "\n",
       "       [[160, 161, 162, 163, 164],\n",
       "        [165, 166, 167, 168, 169],\n",
       "        [170, 171, 172, 173, 174],\n",
       "        [175, 176, 177, 178, 179]],\n",
       "\n",
       "       [[180, 181, 182, 183, 184],\n",
       "        [185, 186, 187, 188, 189],\n",
       "        [190, 191, 192, 193, 194],\n",
       "        [195, 196, 197, 198, 199]]])"
      ]
     },
     "execution_count": 15,
     "metadata": {},
     "output_type": "execute_result"
    }
   ],
   "source": [
    "g.get_grid_idx()"
   ]
  },
  {
   "cell_type": "code",
   "execution_count": 16,
   "metadata": {},
   "outputs": [],
   "source": [
    "def value_iteration(P_a, rewards, error=0.01, max_iter=100):\n",
    "    \"\"\"\n",
    "    static value iteration function. Perhaps the most useful function in this repo\n",
    "\n",
    "    inputs:\n",
    "    P_a         NxNxN_ACTIONS transition probabilities matrix - \n",
    "                          P_a[s0, s1, a] is the transition prob of \n",
    "                          landing at state s1 when taking action \n",
    "                          a at state s0\n",
    "    rewards     Nx1 matrix - rewards for all the states\n",
    "    gamma       float - RL discount\n",
    "    error       float - threshold for a stop\n",
    "\n",
    "    returns:\n",
    "    values    Nx1 matrix - estimated values\n",
    "    policy    Nx1 matrix - policy\n",
    "    \"\"\"\n",
    "    N_STATES, _, N_ACTIONS = np.shape(P_a)\n",
    "    n = 0 \n",
    "    values = np.ones([N_STATES])* -FLOAT_MAX\n",
    "    qvalues = np.ones((N_STATES, N_ACTIONS))* -FLOAT_MAX\n",
    "    policy = np.zeros((N_STATES, N_ACTIONS))\n",
    "        \n",
    "    # estimate values\n",
    "    while True:\n",
    "        values_tmp = values.copy()\n",
    "        values[g.state2idx(g.end)] = 0 # goal\n",
    "        \n",
    "        for s in range(N_STATES):\n",
    "            qvalues[s] = [sum([P_a[s, s1, a]*(rewards[s] + values[s1]) for s1 in range(N_STATES)]) for a in range(N_ACTIONS)]\n",
    "            \n",
    "            softmax = max(qvalues[s]) + np.log(1.0 + np.exp(min(qvalues[s]) - max(qvalues[s]))) \n",
    "            values[s] = rewards[s] + softmax\n",
    "            \n",
    "            policy[s,:] = np.exp(qvalues[s]-values[s])/sum(np.exp(qvalues[s]-values[s]))\n",
    "            \n",
    "        if max([abs(values[s] - values_tmp[s]) for s in range(N_STATES)]) < error:\n",
    "            break\n",
    "        n += 1\n",
    "        # max iteration\n",
    "        if n > max_iter:\n",
    "            print(\"    WARNING: max number of iterations\", max_iter)\n",
    "            break    \n",
    "    \n",
    "    return values, policy"
   ]
  },
  {
   "cell_type": "code",
   "execution_count": 17,
   "metadata": {},
   "outputs": [],
   "source": [
    "P = g.get_transition_mat()\n",
    "R = -np.random.random((g.n_states, 1))\n",
    "\n",
    "values, policy = value_iteration(P, R, 0.01, 500)\n",
    "\n",
    "# VALUES = values.reshape((g.length_max, g.height, g.width))\n",
    "\n",
    "# for j in range(VALUES.shape[2]):\n",
    "#     plt.imshow(VALUES[:,:,j])\n",
    "#     plt.show()"
   ]
  },
  {
   "cell_type": "code",
   "execution_count": 18,
   "metadata": {},
   "outputs": [],
   "source": [
    "def compute_state_visition_freq(P_a, start_idx, nb_step, policy):\n",
    "    \"\"\"compute the expected states visition frequency p(s| theta, T) \n",
    "    using dynamic programming\n",
    "    inputs:\n",
    "    P_a     NxNxN_ACTIONS matrix - transition dynamics\n",
    "    gamma   float - discount factor\n",
    "    start_idx   idx of start position\n",
    "    nb_step idx - nb of step to iterate\n",
    "    policy  Nx1 vector - policy\n",
    "\n",
    "    returns:\n",
    "    p       Nx1 vector - state visitation frequencies\n",
    "    \"\"\"\n",
    "    N_STATES, _, N_ACTIONS = np.shape(P_a)\n",
    "\n",
    "    # mu[s, t] is the prob of visiting state s at time t\n",
    "    mu = np.zeros([N_STATES, nb_step]) \n",
    "\n",
    "    mu[start_idx, 0] = 1\n",
    "    for s in range(N_STATES):\n",
    "        for t in range(nb_step-1):\n",
    "            mu[s, t+1] = sum([sum([mu[pre_s, t]*P_a[pre_s, s, a1]*policy[pre_s, a1] for a1 in range(N_ACTIONS)]) for pre_s in range(N_STATES)])\n",
    "\n",
    "    p = np.sum(mu, 1)\n",
    "    return p"
   ]
  },
  {
   "cell_type": "code",
   "execution_count": 19,
   "metadata": {
    "scrolled": true
   },
   "outputs": [
    {
     "data": {
      "text/plain": [
       "array([[[0.00000000e+00, 0.00000000e+00, 0.00000000e+00, 0.00000000e+00,\n",
       "         0.00000000e+00],\n",
       "        [0.00000000e+00, 0.00000000e+00, 0.00000000e+00, 1.00000000e+00,\n",
       "         0.00000000e+00],\n",
       "        [0.00000000e+00, 0.00000000e+00, 0.00000000e+00, 0.00000000e+00,\n",
       "         0.00000000e+00],\n",
       "        [0.00000000e+00, 0.00000000e+00, 0.00000000e+00, 0.00000000e+00,\n",
       "         0.00000000e+00]],\n",
       "\n",
       "       [[0.00000000e+00, 0.00000000e+00, 4.04063616e-02, 1.35510948e-01,\n",
       "         2.57125026e-01],\n",
       "        [0.00000000e+00, 0.00000000e+00, 8.60349317e-02, 0.00000000e+00,\n",
       "         7.48541629e-02],\n",
       "        [0.00000000e+00, 0.00000000e+00, 4.93565021e-02, 2.48907423e-01,\n",
       "         1.07804645e-01],\n",
       "        [0.00000000e+00, 0.00000000e+00, 0.00000000e+00, 0.00000000e+00,\n",
       "         0.00000000e+00]],\n",
       "\n",
       "       [[0.00000000e+00, 3.48547421e-03, 3.70435575e-02, 1.61409777e-01,\n",
       "         2.08502547e-01],\n",
       "        [0.00000000e+00, 5.50806158e-03, 5.52203084e-02, 0.00000000e+00,\n",
       "         5.34459628e-02],\n",
       "        [0.00000000e+00, 1.58690795e-02, 2.11903812e-02, 8.96766708e-02,\n",
       "         1.08308144e-01],\n",
       "        [0.00000000e+00, 1.15468332e-03, 3.22671762e-02, 1.41708408e-02,\n",
       "         4.11377166e-02]],\n",
       "\n",
       "       [[6.00127705e-04, 1.45980747e-02, 5.31118841e-02, 1.06437621e-01,\n",
       "         1.35061795e-01],\n",
       "        [8.94691341e-04, 6.36758607e-03, 4.12863821e-02, 0.00000000e+00,\n",
       "         1.52473600e-01],\n",
       "        [7.19363538e-04, 7.02938629e-03, 3.06433766e-02, 3.46517189e-02,\n",
       "         7.88856983e-02],\n",
       "        [1.03049099e-03, 6.00195055e-03, 2.05923585e-02, 1.67713800e-02,\n",
       "         2.27737744e-02]],\n",
       "\n",
       "       [[1.36171616e-03, 6.00695380e-03, 6.28330165e-02, 6.44164005e-02,\n",
       "         1.47138761e-01],\n",
       "        [2.43674546e-03, 1.02780555e-02, 5.12745773e-02, 0.00000000e+00,\n",
       "         7.83918275e-02],\n",
       "        [2.39136421e-03, 9.33579620e-03, 2.24743570e-02, 3.43068366e-02,\n",
       "         6.66257692e-02],\n",
       "        [2.20592355e-03, 1.56107799e-03, 2.38992974e-02, 2.45305383e-02,\n",
       "         1.79771955e-02]],\n",
       "\n",
       "       [[1.02777733e-03, 1.71623073e-02, 5.63699295e-02, 1.01775777e-01,\n",
       "         7.42678069e-02],\n",
       "        [5.62261923e-03, 4.36567008e-03, 1.11450731e-02, 0.00000000e+00,\n",
       "         8.33229780e-02],\n",
       "        [1.21612557e-03, 1.09465645e-02, 1.16152983e-02, 5.55516817e-02,\n",
       "         4.86964032e-02],\n",
       "        [2.75463254e-03, 4.02540276e-03, 1.57031299e-02, 2.17826035e-02,\n",
       "         1.39950804e-02]],\n",
       "\n",
       "       [[3.12717377e-03, 1.49851210e-02, 2.84727688e-02, 6.15845130e-02,\n",
       "         9.24645740e-02],\n",
       "        [3.93153660e-03, 9.95937453e-03, 3.23954475e-02, 0.00000000e+00,\n",
       "         8.22376749e-02],\n",
       "        [2.11315015e-03, 2.07793361e-03, 1.66372588e-02, 2.46594870e-02,\n",
       "         4.21487942e-02],\n",
       "        [2.72805345e-03, 6.58691164e-03, 2.28851278e-02, 1.12034036e-02,\n",
       "         1.02753468e-02]],\n",
       "\n",
       "       [[0.00000000e+00, 2.10248625e-02, 3.07306601e-02, 8.54255433e-02,\n",
       "         5.48202078e-02],\n",
       "        [0.00000000e+00, 4.81467224e-03, 1.02893475e-02, 0.00000000e+00,\n",
       "         4.81973743e-02],\n",
       "        [0.00000000e+00, 1.23182049e-02, 2.18727273e-02, 3.80435357e-02,\n",
       "         2.96832772e-02],\n",
       "        [0.00000000e+00, 4.79307604e-03, 1.62753624e-02, 7.08619198e-03,\n",
       "         1.13860838e-02]],\n",
       "\n",
       "       [[0.00000000e+00, 0.00000000e+00, 3.97123641e-02, 6.59156489e-02,\n",
       "         2.61099171e-02],\n",
       "        [0.00000000e+00, 0.00000000e+00, 3.65569646e-02, 0.00000000e+00,\n",
       "         6.14031461e-02],\n",
       "        [0.00000000e+00, 0.00000000e+00, 4.31874527e-02, 3.30543501e-02,\n",
       "         1.72958256e-02],\n",
       "        [0.00000000e+00, 0.00000000e+00, 0.00000000e+00, 0.00000000e+00,\n",
       "         0.00000000e+00]],\n",
       "\n",
       "       [[0.00000000e+00, 0.00000000e+00, 0.00000000e+00, 0.00000000e+00,\n",
       "         0.00000000e+00],\n",
       "        [0.00000000e+00, 0.00000000e+00, 0.00000000e+00, 4.06041484e+00,\n",
       "         0.00000000e+00],\n",
       "        [0.00000000e+00, 0.00000000e+00, 0.00000000e+00, 0.00000000e+00,\n",
       "         0.00000000e+00],\n",
       "        [0.00000000e+00, 0.00000000e+00, 0.00000000e+00, 0.00000000e+00,\n",
       "         0.00000000e+00]]])"
      ]
     },
     "execution_count": 19,
     "metadata": {},
     "output_type": "execute_result"
    }
   ],
   "source": [
    "svf = compute_state_visition_freq(P, g.state2idx((0,1,3)), g.length_max, policy)\n",
    "svf.reshape((g.length_max, g.height, g.width))"
   ]
  },
  {
   "cell_type": "code",
   "execution_count": 52,
   "metadata": {},
   "outputs": [],
   "source": [
    "## feat_map\n",
    "FEAT_MAP = []\n",
    "\n",
    "for j in range(g.length_max):\n",
    "    feature_list =[]\n",
    "    for t in range(g.length_max):\n",
    "        coeff = [1 if t == j else 0]\n",
    "#         coeff = 1\n",
    "        feature =  coeff * np.array(data.feature).reshape(5,g.height*g.width).T\n",
    "        feature_list.append(feature)\n",
    "\n",
    "    feat_map = np.vstack(feature_list)\n",
    "    FEAT_MAP.append(feat_map)\n",
    "    \n",
    "feat_map = np.hstack(FEAT_MAP)"
   ]
  },
  {
   "cell_type": "code",
   "execution_count": 54,
   "metadata": {},
   "outputs": [],
   "source": [
    "def maxent_irl(feat_map, P_a, trajs, lr, error, max_iter):\n",
    "    \"\"\"\n",
    "    Maximum Entropy Inverse Reinforcement Learning (Maxent IRL)\n",
    "    inputs:\n",
    "    feat_map    NxD matrix - the features for each state\n",
    "    P_a         NxNxN_ACTIONS matrix - P_a[s0, s1, a] is the transition prob of \n",
    "                                       landing at state s1 when taking action \n",
    "                                       a at state s0\n",
    "    gamma       float - RL discount factor\n",
    "    trajs       a list of demonstrations\n",
    "    lr          float - learning rate\n",
    "    n_iters     int - number of optimization steps\n",
    "    returns\n",
    "    rewards     Nx1 vector - recoverred state rewards\n",
    "    \"\"\"\n",
    "    N_STATES, _, N_ACTIONS = np.shape(P_a)\n",
    "\n",
    "    # init parameters\n",
    "    theta = np.ones(feat_map.shape[1])*0.5\n",
    "    \n",
    "    # calc feature expectations\n",
    "    feat_exp = np.zeros([feat_map.shape[1]])\n",
    "    for episode in trajs:\n",
    "        for step in episode:\n",
    "            feat_exp += feat_map[step,:]\n",
    "    feat_exp = feat_exp/len(trajs)\n",
    "\n",
    "    n = 0\n",
    "    error_history = []\n",
    "    # training\n",
    "    while True:\n",
    "        n += 1\n",
    "        if n % (max_iter/20) == 0:\n",
    "            print('iteration: {}/{}'.format(n, max_iter))\n",
    "\n",
    "        # compute reward function\n",
    "        rewards = np.dot(feat_map, theta)\n",
    "\n",
    "        # compute policy\n",
    "        _, policy = value_iteration(P_a, rewards, error=0.01, max_iter=100)\n",
    "\n",
    "        # compute state visition frequences\n",
    "        svf = compute_state_visition_freq(P_a, g.state2idx((0,1,3)), g.length_max, policy)\n",
    "        \n",
    "        # compute gradients\n",
    "        grad = feat_exp - feat_map.T.dot(svf)\n",
    "                \n",
    "        # update params\n",
    "        theta *= np.exp(lr * grad)\n",
    "       \n",
    "        error_history.append(sum(grad**2))\n",
    "        if sum(grad**2) < error:\n",
    "            break\n",
    "        # max iteration\n",
    "        if n > max_iter:\n",
    "            print(\"    WARNING: max number of iterations\", max_iter)\n",
    "            break \n",
    "            \n",
    "    rewards = np.dot(feat_map, theta)\n",
    "    return rewards, policy, error_history"
   ]
  },
  {
   "cell_type": "code",
   "execution_count": 55,
   "metadata": {},
   "outputs": [],
   "source": [
    "trajs = []\n",
    "for t in data.trajs:\n",
    "    tt = []\n",
    "    for s in t:\n",
    "        tt.append(g.state2idx(s))\n",
    "    trajs.append(tt)"
   ]
  },
  {
   "cell_type": "code",
   "execution_count": 56,
   "metadata": {
    "scrolled": true
   },
   "outputs": [
    {
     "name": "stdout",
     "output_type": "stream",
     "text": [
      "iteration: 2/40\n",
      "iteration: 4/40\n",
      "iteration: 6/40\n",
      "iteration: 8/40\n",
      "iteration: 10/40\n",
      "iteration: 12/40\n",
      "iteration: 14/40\n",
      "iteration: 16/40\n",
      "iteration: 18/40\n",
      "iteration: 20/40\n",
      "iteration: 22/40\n",
      "iteration: 24/40\n",
      "iteration: 26/40\n",
      "iteration: 28/40\n",
      "iteration: 30/40\n",
      "iteration: 32/40\n",
      "iteration: 34/40\n",
      "iteration: 36/40\n",
      "iteration: 38/40\n",
      "iteration: 40/40\n",
      "    WARNING: max number of iterations 40\n"
     ]
    }
   ],
   "source": [
    "rewards, policy, error_history = maxent_irl(feat_map, P, trajs, 0.1, 0.01, 40)"
   ]
  },
  {
   "cell_type": "code",
   "execution_count": 57,
   "metadata": {
    "scrolled": true
   },
   "outputs": [
    {
     "data": {
      "text/plain": [
       "[<matplotlib.lines.Line2D at 0x7f713fa01690>]"
      ]
     },
     "execution_count": 57,
     "metadata": {},
     "output_type": "execute_result"
    },
    {
     "data": {
      "image/png": "[encoded data removed]",
      "text/plain": [
       "<Figure size 432x288 with 1 Axes>"
      ]
     },
     "metadata": {
      "needs_background": "light"
     },
     "output_type": "display_data"
    }
   ],
   "source": [
    "plt.plot(error_history)"
   ]
  },
  {
   "cell_type": "code",
   "execution_count": 58,
   "metadata": {},
   "outputs": [
    {
     "data": {
      "image/png": "[encoded data removed]",
      "text/plain": [
       "<Figure size 432x288 with 1 Axes>"
      ]
     },
     "metadata": {
      "needs_background": "light"
     },
     "output_type": "display_data"
    }
   ],
   "source": [
    "rewards_grid = rewards.reshape((g.length_max, g.height, g.width))\n",
    "rewards_grid = rewards_grid[0,:,:]\n",
    "\n",
    "# Map\n",
    "\n",
    "plt.imshow(rewards_grid);\n",
    "plt.title('Rewards')\n",
    "plt.show()"
   ]
  },
  {
   "cell_type": "code",
   "execution_count": 62,
   "metadata": {},
   "outputs": [],
   "source": [
    "def generate_demonstrations(g, policy, n_trajs=10, len_traj=5):\n",
    "    \"\"\"gatheres expert demonstrations\n",
    "    inputs:\n",
    "    policy      Nx1 matrix\n",
    "    n_trajs     int - number of trajectories to generate\n",
    "    rand_start  bool - randomly picking start position or not\n",
    "    start_pos   2x1 list - set start position, default [0,0]\n",
    "    returns:\n",
    "    trajs       a list of trajectories - each element in the list is a list of Steps representing an episode\n",
    "    \"\"\"\n",
    "\n",
    "    trajs = []\n",
    "    for i in range(n_trajs):\n",
    "        \n",
    "        episode = []\n",
    "        state = (0,1,3)\n",
    "        idx = g.state2idx(state)\n",
    "        episode.append(idx)\n",
    "        \n",
    "        # while not is_done:\n",
    "        for _ in range(len_traj-1):\n",
    "\n",
    "            act = np.random.choice(g.n_actions, p= policy[idx,:])\n",
    "            next_state = g.get_next_state(state, act)\n",
    "            next_idx = g.state2idx(next_state)\n",
    "            episode.append(next_idx)\n",
    "            state = next_state\n",
    "            idx = next_idx\n",
    "            \n",
    "        trajs.append(episode)\n",
    "    return trajs"
   ]
  },
  {
   "cell_type": "code",
   "execution_count": 63,
   "metadata": {
    "scrolled": true
   },
   "outputs": [
    {
     "data": {
      "text/plain": [
       "[[8, 22, 42, 62, 188, 188, 188, 188],\n",
       " [8, 34, 188, 188, 188, 188, 188, 188],\n",
       " [8, 33, 53, 188, 188, 188, 188, 188],\n",
       " [8, 27, 188, 188, 188, 188, 188, 188],\n",
       " [8, 33, 49, 188, 188, 188, 188, 188],\n",
       " [8, 34, 49, 73, 188, 188, 188, 188],\n",
       " [8, 23, 188, 188, 188, 188, 188, 188],\n",
       " [8, 34, 188, 188, 188, 188, 188, 188],\n",
       " [8, 29, 49, 188, 188, 188, 188, 188],\n",
       " [8, 33, 59, 79, 93, 117, 133, 188],\n",
       " [8, 34, 54, 188, 188, 188, 188, 188],\n",
       " [8, 32, 188, 188, 188, 188, 188, 188],\n",
       " [8, 33, 47, 73, 92, 188, 188, 188],\n",
       " [8, 33, 52, 72, 93, 188, 188, 188],\n",
       " [8, 34, 54, 73, 92, 188, 188, 188],\n",
       " [8, 34, 54, 78, 92, 117, 133, 188],\n",
       " [8, 33, 53, 188, 188, 188, 188, 188],\n",
       " [8, 29, 188, 188, 188, 188, 188, 188],\n",
       " [8, 22, 43, 67, 93, 113, 134, 154],\n",
       " [8, 27, 47, 61, 82, 188, 188, 188],\n",
       " [8, 27, 42, 62, 188, 188, 188, 188],\n",
       " [8, 23, 49, 73, 94, 188, 188, 188],\n",
       " [8, 33, 188, 188, 188, 188, 188, 188],\n",
       " [8, 32, 188, 188, 188, 188, 188, 188],\n",
       " [8, 32, 52, 73, 98, 118, 133, 153],\n",
       " [8, 29, 53, 79, 99, 113, 134, 188],\n",
       " [8, 23, 47, 188, 188, 188, 188, 188],\n",
       " [8, 33, 188, 188, 188, 188, 188, 188],\n",
       " [8, 22, 42, 62, 82, 188, 188, 188],\n",
       " [8, 33, 53, 72, 188, 188, 188, 188],\n",
       " [8, 23, 188, 188, 188, 188, 188, 188],\n",
       " [8, 27, 188, 188, 188, 188, 188, 188],\n",
       " [8, 33, 47, 73, 98, 113, 188, 188],\n",
       " [8, 22, 47, 67, 92, 113, 188, 188],\n",
       " [8, 33, 54, 188, 188, 188, 188, 188],\n",
       " [8, 32, 188, 188, 188, 188, 188, 188],\n",
       " [8, 22, 43, 63, 83, 188, 188, 188],\n",
       " [8, 23, 188, 188, 188, 188, 188, 188],\n",
       " [8, 24, 49, 69, 94, 188, 188, 188],\n",
       " [8, 32, 188, 188, 188, 188, 188, 188],\n",
       " [8, 33, 188, 188, 188, 188, 188, 188],\n",
       " [8, 34, 53, 72, 93, 188, 188, 188],\n",
       " [8, 33, 57, 73, 188, 188, 188, 188],\n",
       " [8, 27, 47, 62, 188, 188, 188, 188],\n",
       " [8, 23, 43, 188, 188, 188, 188, 188],\n",
       " [8, 33, 59, 79, 99, 119, 133, 153],\n",
       " [8, 22, 43, 188, 188, 188, 188, 188],\n",
       " [8, 27, 53, 188, 188, 188, 188, 188],\n",
       " [8, 33, 53, 74, 94, 113, 188, 188],\n",
       " [8, 34, 188, 188, 188, 188, 188, 188]]"
      ]
     },
     "execution_count": 63,
     "metadata": {},
     "output_type": "execute_result"
    }
   ],
   "source": [
    "trajs = generate_demonstrations(g, policy, 50, 8)\n",
    "trajs"
   ]
  },
  {
   "cell_type": "code",
   "execution_count": 64,
   "metadata": {},
   "outputs": [
    {
     "data": {
      "text/plain": [
       "array([[ 0.,  1., 15., 12.,  1.],\n",
       "       [ 0.,  0., 14., 97.,  9.],\n",
       "       [ 0.,  0., 14., 44., 19.],\n",
       "       [ 0.,  0.,  3.,  4.,  8.],\n",
       "       [ 0.,  0.,  0.,  0.,  0.]])"
      ]
     },
     "execution_count": 64,
     "metadata": {},
     "output_type": "execute_result"
    }
   ],
   "source": [
    "freq = np.zeros((5,5))\n",
    "for traj in trajs:\n",
    "    traj = np.unique(traj)\n",
    "    for idx in traj:\n",
    "        state = g.idx2state(idx)\n",
    "        freq[state[1], state[2]] += 1\n",
    "        \n",
    "freq"
   ]
  },
  {
   "cell_type": "code",
   "execution_count": null,
   "metadata": {},
   "outputs": [],
   "source": []
  }
 ],
 "metadata": {
  "kernelspec": {
   "display_name": "Python 3",
   "language": "python",
   "name": "python3"
  },
  "language_info": {
   "codemirror_mode": {
    "name": "ipython",
    "version": 3
   },
   "file_extension": ".py",
   "mimetype": "text/x-python",
   "name": "python",
   "nbconvert_exporter": "python",
   "pygments_lexer": "ipython3",
   "version": "3.7.4"
  }
 },
 "nbformat": 4,
 "nbformat_minor": 2
}
