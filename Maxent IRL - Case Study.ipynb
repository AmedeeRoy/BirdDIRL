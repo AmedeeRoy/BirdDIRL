{
 "cells": [
  {
   "cell_type": "markdown",
   "metadata": {},
   "source": [
    "# Bird IRL\n",
    "\n",
    "Inverse reinforcement Learning for simulating seabirds' foraging trips"
   ]
  },
  {
   "cell_type": "code",
   "execution_count": 1,
   "metadata": {},
   "outputs": [],
   "source": [
    "# import python libraries\n",
    "import sqlite3\n",
    "import pandas as pd\n",
    "import netCDF4\n",
    "import numpy as np\n",
    "import matplotlib.pyplot as plt\n",
    "\n",
    "# import home-made scripts\n",
    "from grid import Grid\n",
    "from mdp import MDP\n",
    "from maxentirl import MaxEntIRL"
   ]
  },
  {
   "cell_type": "markdown",
   "metadata": {},
   "source": [
    "## Load trajectories\n",
    "\n",
    "Connection to the database, load and format trajectories to the grid of study"
   ]
  },
  {
   "cell_type": "code",
   "execution_count": 2,
   "metadata": {},
   "outputs": [
    {
     "data": {
      "text/html": [
       "<div>\n",
       "<style scoped>\n",
       "    .dataframe tbody tr th:only-of-type {\n",
       "        vertical-align: middle;\n",
       "    }\n",
       "\n",
       "    .dataframe tbody tr th {\n",
       "        vertical-align: top;\n",
       "    }\n",
       "\n",
       "    .dataframe thead th {\n",
       "        text-align: right;\n",
       "    }\n",
       "</style>\n",
       "<table border=\"1\" class=\"dataframe\">\n",
       "  <thead>\n",
       "    <tr style=\"text-align: right;\">\n",
       "      <th></th>\n",
       "      <th>bird</th>\n",
       "      <th>trip</th>\n",
       "      <th>datetime</th>\n",
       "      <th>lon</th>\n",
       "      <th>lat</th>\n",
       "    </tr>\n",
       "    <tr>\n",
       "      <th>trip</th>\n",
       "      <th></th>\n",
       "      <th></th>\n",
       "      <th></th>\n",
       "      <th></th>\n",
       "      <th></th>\n",
       "    </tr>\n",
       "  </thead>\n",
       "  <tbody>\n",
       "    <tr>\n",
       "      <th>P1108_2_SV_T1</th>\n",
       "      <td>P1108_2_SV</td>\n",
       "      <td>P1108_2_SV_T1</td>\n",
       "      <td>2008-11-24 16:38:11</td>\n",
       "      <td>-77.264312</td>\n",
       "      <td>-11.773676</td>\n",
       "    </tr>\n",
       "    <tr>\n",
       "      <th>P1108_2_SV_T1</th>\n",
       "      <td>P1108_2_SV</td>\n",
       "      <td>P1108_2_SV_T1</td>\n",
       "      <td>2008-11-24 16:38:13</td>\n",
       "      <td>-77.264359</td>\n",
       "      <td>-11.773425</td>\n",
       "    </tr>\n",
       "    <tr>\n",
       "      <th>P1108_2_SV_T1</th>\n",
       "      <td>P1108_2_SV</td>\n",
       "      <td>P1108_2_SV_T1</td>\n",
       "      <td>2008-11-24 16:38:15</td>\n",
       "      <td>-77.264492</td>\n",
       "      <td>-11.773189</td>\n",
       "    </tr>\n",
       "    <tr>\n",
       "      <th>P1108_2_SV_T1</th>\n",
       "      <td>P1108_2_SV</td>\n",
       "      <td>P1108_2_SV_T1</td>\n",
       "      <td>2008-11-24 16:38:17</td>\n",
       "      <td>-77.264692</td>\n",
       "      <td>-11.773028</td>\n",
       "    </tr>\n",
       "    <tr>\n",
       "      <th>P1108_2_SV_T1</th>\n",
       "      <td>P1108_2_SV</td>\n",
       "      <td>P1108_2_SV_T1</td>\n",
       "      <td>2008-11-24 16:38:19</td>\n",
       "      <td>-77.264919</td>\n",
       "      <td>-11.772915</td>\n",
       "    </tr>\n",
       "  </tbody>\n",
       "</table>\n",
       "</div>"
      ],
      "text/plain": [
       "                     bird           trip             datetime        lon  \\\n",
       "trip                                                                       \n",
       "P1108_2_SV_T1  P1108_2_SV  P1108_2_SV_T1  2008-11-24 16:38:11 -77.264312   \n",
       "P1108_2_SV_T1  P1108_2_SV  P1108_2_SV_T1  2008-11-24 16:38:13 -77.264359   \n",
       "P1108_2_SV_T1  P1108_2_SV  P1108_2_SV_T1  2008-11-24 16:38:15 -77.264492   \n",
       "P1108_2_SV_T1  P1108_2_SV  P1108_2_SV_T1  2008-11-24 16:38:17 -77.264692   \n",
       "P1108_2_SV_T1  P1108_2_SV  P1108_2_SV_T1  2008-11-24 16:38:19 -77.264919   \n",
       "\n",
       "                     lat  \n",
       "trip                      \n",
       "P1108_2_SV_T1 -11.773676  \n",
       "P1108_2_SV_T1 -11.773425  \n",
       "P1108_2_SV_T1 -11.773189  \n",
       "P1108_2_SV_T1 -11.773028  \n",
       "P1108_2_SV_T1 -11.772915  "
      ]
     },
     "execution_count": 2,
     "metadata": {},
     "output_type": "execute_result"
    }
   ],
   "source": [
    "conn = sqlite3.connect('/home/amdroy/MEGA/DATA/seabirdbank.db')\n",
    "\n",
    "request = \"SELECT DISTINCT  bird.id as bird, trip.id as trip, gps.datetime, gps.lon, gps.lat FROM gps \\\n",
    "INNER JOIN trip ON gps.trip = trip.id \\\n",
    "INNER JOIN bird ON trip.bird = bird.id \\\n",
    "WHERE bird.fieldwork = 'P1108' \\\n",
    "AND bird.species = 'SV' \\\n",
    "AND bird.sex = 'M'\"\n",
    "\n",
    "df = pd.read_sql_query(request, conn)\n",
    "df = df.set_index(\"trip\", drop = False)\n",
    "df.head()"
   ]
  },
  {
   "cell_type": "code",
   "execution_count": 3,
   "metadata": {},
   "outputs": [
    {
     "data": {
      "text/plain": [
       "array([[-77.825636, -77.181269],\n",
       "       [-12.042405, -11.382634]])"
      ]
     },
     "execution_count": 3,
     "metadata": {},
     "output_type": "execute_result"
    }
   ],
   "source": [
    "bbox = np.array([ [df['lon'].min(), df['lon'].max()], [df['lat'].min(), df['lat'].max()]])\n",
    "bbox"
   ]
  },
  {
   "cell_type": "code",
   "execution_count": 4,
   "metadata": {},
   "outputs": [],
   "source": [
    "grid = Grid(np.arange(-78, -77, 0.3), np.arange(-12.1, -11.1, 0.3))"
   ]
  },
  {
   "cell_type": "code",
   "execution_count": 5,
   "metadata": {},
   "outputs": [
    {
     "name": "stdout",
     "output_type": "stream",
     "text": [
      "Adding trajectory P1108_14_SV_T1 : ok\n",
      "Adding trajectory P1108_14_SV_T2 : ok\n",
      "Adding trajectory P1108_14_SV_T3 : ok\n",
      "Adding trajectory P1108_19_SV_T2 : ok\n",
      "Adding trajectory P1108_20_SV_T3 : ok\n",
      "Adding trajectory P1108_20_SV_T4 : ok\n",
      "Adding trajectory P1108_25_SV_T1 : ok\n",
      "Adding trajectory P1108_25_SV_T3 : ok\n",
      "Adding trajectory P1108_25_SV_T4 : ok\n",
      "Adding trajectory P1108_29_SV_T2 : ok\n",
      "Adding trajectory P1108_29_SV_T4 : ok\n",
      "Adding trajectory P1108_30_SV_T1 : ok\n",
      "Adding trajectory P1108_30_SV_T2 : ok\n",
      "Adding trajectory P1108_30_SV_T3 : ok\n",
      "Adding trajectory P1108_33_SV_T1 : ok\n",
      "Adding trajectory P1108_34_SV_T2 : ok\n",
      "Adding trajectory P1108_42_SV_T3 : ok\n",
      "Adding trajectory P1108_43_SV_T1 : ok\n",
      "Adding trajectory P1108_43_SV_T2 : ok\n",
      "Adding trajectory P1108_43_SV_T4 : ok\n",
      "Adding trajectory P1108_43_SV_T8 : ok\n",
      "Adding trajectory P1108_46_SV_T1 : ok\n",
      "Adding trajectory P1108_46_SV_T3 : ok\n",
      "Adding trajectory P1108_48_SV_T1 : ok\n",
      "Adding trajectory P1108_48_SV_T2 : ok\n",
      "Adding trajectory P1108_48_SV_T3 : ok\n",
      "Adding trajectory P1108_48_SV_T4 : ok\n",
      "Adding trajectory P1108_48_SV_T5 : ok\n",
      "Adding trajectory P1108_5_SV_T2 : ok\n",
      "Adding trajectory P1108_9_SV_T1 : ok\n"
     ]
    }
   ],
   "source": [
    "for name in np.unique(df.index.values):\n",
    "    time = df.loc[name,\"datetime\"].values\n",
    "    traj = df.loc[name,\"lon\":\"lat\"].values\n",
    "\n",
    "    grid.add_trajectory(time, traj, name)"
   ]
  },
  {
   "cell_type": "code",
   "execution_count": 6,
   "metadata": {},
   "outputs": [],
   "source": [
    "grid.create_gif_trajectory('./trajectory')"
   ]
  },
  {
   "cell_type": "markdown",
   "metadata": {},
   "source": [
    "### Animated Trajectory"
   ]
  },
  {
   "cell_type": "code",
   "execution_count": 8,
   "metadata": {
    "scrolled": false
   },
   "outputs": [
    {
     "data": {
      "image/png": "[encoded data removed]",
      "text/plain": [
       "<IPython.core.display.Image object>"
      ]
     },
     "metadata": {},
     "output_type": "display_data"
    }
   ],
   "source": [
    "import IPython.display as dp\n",
    "with open('./trajectory/P1108_12_SV_T1/P1108_12_SV_T1_4x4.gif','rb') as file:\n",
    "    dp.display(dp.Image(file.read()))\n",
    "\n",
    "# with open('./trajectory/P1108_33_SV_T2/P1108_33_SV_T2_10x10.gif','rb') as file:\n",
    "#     dp.display(dp.Image(file.read()))"
   ]
  },
  {
   "cell_type": "markdown",
   "metadata": {},
   "source": [
    "### Density of all trajectories"
   ]
  },
  {
   "cell_type": "code",
   "execution_count": 9,
   "metadata": {
    "scrolled": true
   },
   "outputs": [
    {
     "data": {
      "image/png": "[encoded data removed]",
      "text/plain": [
       "<Figure size 432x288 with 1 Axes>"
      ]
     },
     "metadata": {
      "needs_background": "light"
     },
     "output_type": "display_data"
    }
   ],
   "source": [
    "plt.imshow(grid.show_trajectory_density_all())\n",
    "plt.show()"
   ]
  },
  {
   "cell_type": "markdown",
   "metadata": {},
   "source": [
    "## Load features map\n",
    "\n",
    "load and format netCDF to the grid of study"
   ]
  },
  {
   "cell_type": "code",
   "execution_count": 10,
   "metadata": {},
   "outputs": [],
   "source": [
    "import pickle"
   ]
  },
  {
   "cell_type": "code",
   "execution_count": 11,
   "metadata": {},
   "outputs": [],
   "source": [
    "# import specific Map -------------------------\n",
    "with open('./feature/bathy', 'rb') as f:\n",
    "    data = pickle.load(f)\n",
    "    lon = pickle.load(f)\n",
    "    lat = pickle.load(f)\n",
    "grid.add_feature(lon, lat, data, 'bathy')\n",
    "\n",
    "with open('./feature/chlorophyll', 'rb') as f:\n",
    "    data = pickle.load(f)\n",
    "    lon = pickle.load(f)\n",
    "    lat = pickle.load(f)\n",
    "grid.add_feature(lon, lat, data, 'chlorophyll')\n",
    "\n",
    "with open('./feature/dist_to_coast', 'rb') as f:\n",
    "    data = pickle.load(f)\n",
    "    lon = pickle.load(f)\n",
    "    lat = pickle.load(f)\n",
    "grid.add_feature(lon, lat, -np.log(data), 'dist_to_coast')\n",
    "\n",
    "with open('./feature/dist_to_colony', 'rb') as f:\n",
    "    data = pickle.load(f)\n",
    "    lon = pickle.load(f)\n",
    "    lat = pickle.load(f)\n",
    "grid.add_feature(lon, lat, -np.log(data), 'dist_to_colony')\n",
    "\n",
    "with open('./feature/landmask', 'rb') as f:\n",
    "    data = pickle.load(f)\n",
    "    lon = pickle.load(f)\n",
    "    lat = pickle.load(f)\n",
    "grid.add_feature(lon, lat, -data, 'landmask')\n",
    "\n",
    "# with open('./feature/temperature', 'rb') as f:\n",
    "#     data = pickle.load(f)\n",
    "#     lon = pickle.load(f)\n",
    "#     lat = pickle.load(f)\n",
    "# grid.add_feature(lon, lat, data, 'temperature')\n",
    "\n",
    "# with open('./feature/wind_dir', 'rb') as f:\n",
    "#     data = pickle.load(f)\n",
    "#     lon = pickle.load(f)\n",
    "#     lat = pickle.load(f)\n",
    "# grid.add_feature(lon, lat, data, 'wind_dir')\n",
    "\n",
    "# with open('./feature/wind_speed', 'rb') as f:\n",
    "#     data = pickle.load(f)\n",
    "#     lon = pickle.load(f)\n",
    "#     lat = pickle.load(f)\n",
    "# grid.add_feature(lon, lat, data, 'wind_speed')\n",
    "\n",
    "grid.add_feature(lon, lat, data*0, 'constant')"
   ]
  },
  {
   "cell_type": "code",
   "execution_count": 12,
   "metadata": {
    "scrolled": true
   },
   "outputs": [
    {
     "data": {
      "image/png": "[encoded data removed]",
      "text/plain": [
       "<Figure size 432x288 with 6 Axes>"
      ]
     },
     "metadata": {
      "needs_background": "light"
     },
     "output_type": "display_data"
    }
   ],
   "source": [
    "grid.normalize_feature()\n",
    "grid.show_feature_all()"
   ]
  },
  {
   "cell_type": "code",
   "execution_count": 13,
   "metadata": {
    "scrolled": true
   },
   "outputs": [
    {
     "data": {
      "image/png": "[encoded data removed]",
      "text/plain": [
       "<Figure size 432x288 with 1 Axes>"
      ]
     },
     "metadata": {
      "needs_background": "light"
     },
     "output_type": "display_data"
    }
   ],
   "source": [
    "grid.show_feature('landmask')"
   ]
  },
  {
   "cell_type": "markdown",
   "metadata": {},
   "source": [
    "## Create MDP"
   ]
  },
  {
   "cell_type": "code",
   "execution_count": 14,
   "metadata": {},
   "outputs": [],
   "source": [
    "length_max = max([len(traj) for _,traj in grid.trajs.items()])\n",
    "start_end_pos = [traj[-1] for _,traj in grid.trajs.items()][0]\n",
    "\n",
    "mdp = MDP(length_max, len(grid.lat), len(grid.lon), start_end_pos)\n",
    "            \n",
    "P = mdp.get_transition_mat()\n",
    "feat_map = mdp.get_feature_mat(grid.feature)\n",
    "trajs = mdp.get_trajs_idx(grid.trajs)"
   ]
  },
  {
   "cell_type": "code",
   "execution_count": 18,
   "metadata": {},
   "outputs": [
    {
     "data": {
      "text/plain": [
       "[[10, 27, 42, 59, 74, 94, 106],\n",
       " [74, 86, 106],\n",
       " [74, 86, 106],\n",
       " [74, 91, 106],\n",
       " [74, 86, 106],\n",
       " [74, 91, 106],\n",
       " [42, 59, 79, 94, 106],\n",
       " [74, 94, 106],\n",
       " [10, 27, 42, 62, 77, 94, 106],\n",
       " [74, 94, 106],\n",
       " [74, 86, 106],\n",
       " [74, 94, 106],\n",
       " [74, 91, 106],\n",
       " [74, 91, 106],\n",
       " [74, 86, 106],\n",
       " [74, 86, 106],\n",
       " [74, 86, 106],\n",
       " [74, 94, 106],\n",
       " [74, 91, 106],\n",
       " [74, 86, 106],\n",
       " [42, 57, 69, 86, 106],\n",
       " [74, 94, 106],\n",
       " [42, 62, 77, 89, 106],\n",
       " [74, 91, 106],\n",
       " [74, 89, 106],\n",
       " [42, 59, 71, 86, 106],\n",
       " [10, 27, 42, 59, 74, 91, 106],\n",
       " [74, 86, 106],\n",
       " [74, 91, 106],\n",
       " [74, 94, 106]]"
      ]
     },
     "execution_count": 18,
     "metadata": {},
     "output_type": "execute_result"
    }
   ],
   "source": [
    "trajs"
   ]
  },
  {
   "cell_type": "markdown",
   "metadata": {},
   "source": [
    "## Run MaxEntIRL"
   ]
  },
  {
   "cell_type": "code",
   "execution_count": null,
   "metadata": {},
   "outputs": [],
   "source": [
    "model = MaxEntIRL(P, feat_map, trajs)"
   ]
  },
  {
   "cell_type": "code",
   "execution_count": null,
   "metadata": {
    "scrolled": false
   },
   "outputs": [],
   "source": [
    "model.maxent_irl(1, 0.01, 10)"
   ]
  },
  {
   "cell_type": "code",
   "execution_count": null,
   "metadata": {},
   "outputs": [],
   "source": [
    "with open('maxent_irl', 'wb') as f:\n",
    "    pickle.dump(model,f)"
   ]
  },
  {
   "cell_type": "markdown",
   "metadata": {},
   "source": [
    "### Final Reward Map"
   ]
  },
  {
   "cell_type": "code",
   "execution_count": null,
   "metadata": {
    "scrolled": true
   },
   "outputs": [],
   "source": [
    "rewards_grid = mdp.get_rewards_grid(model.rewards)\n",
    "\n",
    "for i in range(mdp.length_max):\n",
    "    plt.imshow(rewards_grid[i,:,:])\n",
    "    plt.show()"
   ]
  },
  {
   "cell_type": "code",
   "execution_count": null,
   "metadata": {},
   "outputs": [],
   "source": [
    "svf_grid = model.svf.reshape((mdp.length_max, mdp.height, mdp.width))\n",
    "\n",
    "for i in range(mdp.length_max):\n",
    "    plt.imshow(svf_grid[i,:,:])\n",
    "    plt.show()"
   ]
  },
  {
   "cell_type": "code",
   "execution_count": null,
   "metadata": {},
   "outputs": [],
   "source": [
    "model.svf"
   ]
  },
  {
   "cell_type": "markdown",
   "metadata": {},
   "source": [
    "### Simulated Trajectories"
   ]
  },
  {
   "cell_type": "code",
   "execution_count": null,
   "metadata": {},
   "outputs": [],
   "source": [
    "mdp.start"
   ]
  },
  {
   "cell_type": "code",
   "execution_count": null,
   "metadata": {
    "scrolled": false
   },
   "outputs": [],
   "source": [
    "traj_sim = mdp.generate_demonstrations(model.policy, (0,2,2), n_trajs=10, len_traj=mdp.length_max)\n",
    "traj_sim"
   ]
  },
  {
   "cell_type": "code",
   "execution_count": null,
   "metadata": {},
   "outputs": [],
   "source": [
    "import os\n",
    "import imageio\n",
    "\n",
    "def create_gif_simulations(path, traj_sim):\n",
    "    for i in range(len(traj_sim)):\n",
    "        name = str(i)\n",
    "        # test if folder exist, else create it\n",
    "        if not os.path.isdir(path+'/'+name):\n",
    "            os.mkdir(path+'/'+name)\n",
    "        if not os.path.isdir(path+'/'+name+'/step'):\n",
    "            os.mkdir(path+'/'+name+'/step')\n",
    "\n",
    "        images = []\n",
    "        n = 0\n",
    "        m = np.zeros(grid.size)\n",
    "        # loop over each position and save associated image\n",
    "        for step in traj_sim[i]:\n",
    "            m = m/2\n",
    "            coord = mdp.idx2state(step)\n",
    "            m[coord[1], coord[2]] += 1\n",
    "            \n",
    "            path_im = path+'/'+name+'/step/'+name+'_'+str(grid.width)+'x'+ str(grid.width)+'_'+str(n)\n",
    "            # Create a new figure, plot into it, then close it so it never gets displayed\n",
    "            fig = plt.figure()\n",
    "            plt.imshow(m)\n",
    "            plt.savefig(path_im)\n",
    "            plt.close(fig)\n",
    "            images.append(imageio.imread(path_im+'.png'))\n",
    "            n+=1\n",
    "        # save gif\n",
    "        path_gif = path+'/'+name+'/'+name+'_'+str(grid.width)+'x'+ str(grid.width)+'.gif'\n",
    "        imageio.mimsave(path_gif, images)"
   ]
  },
  {
   "cell_type": "code",
   "execution_count": null,
   "metadata": {},
   "outputs": [],
   "source": [
    "create_gif_simulations('./simulations/', traj_sim)"
   ]
  },
  {
   "cell_type": "code",
   "execution_count": null,
   "metadata": {},
   "outputs": [],
   "source": [
    "with open('./simulations/4/4_4x4.gif','rb') as file:\n",
    "    dp.display(dp.Image(file.read()))\n",
    "\n",
    "# with open('./trajectory/P1108_33_SV_T2/P1108_33_SV_T2_10x10.gif','rb') as file:\n",
    "#     dp.display(dp.Image(file.read()))"
   ]
  },
  {
   "cell_type": "markdown",
   "metadata": {},
   "source": [
    "### Density of simulated Trajectories"
   ]
  },
  {
   "cell_type": "code",
   "execution_count": null,
   "metadata": {},
   "outputs": [],
   "source": [
    "freq = np.zeros(grid.size)\n",
    "n = 1\n",
    "for traj in traj_sim:\n",
    "    im = np.zeros(grid.size)\n",
    "    for idx in traj:\n",
    "        state = mdp.idx2state(idx)\n",
    "        im[state[1], state[2]] += 1\n",
    "        \n",
    "    # new_plt\n",
    "    plt.imshow(im)\n",
    "    plt.savefig('./simulations/'+str(n))\n",
    "        \n",
    "    freq += im\n",
    "    n += 1\n",
    "    \n",
    "plt.imshow(freq)"
   ]
  },
  {
   "cell_type": "markdown",
   "metadata": {},
   "source": [
    "### Theta Evolution"
   ]
  },
  {
   "cell_type": "code",
   "execution_count": null,
   "metadata": {
    "scrolled": true
   },
   "outputs": [],
   "source": [
    "theta = model.theta.reshape(len(grid.feature), mdp.length_max)\n",
    "labels = [t for t in grid.feature.keys()]\n",
    "\n",
    "for t in range(len(grid.feature)):\n",
    "    plt.plot(np.log(theta[t,:]), label = labels[t])\n",
    "\n",
    "plt.legend(loc=\"upper left\")"
   ]
  },
  {
   "cell_type": "code",
   "execution_count": null,
   "metadata": {},
   "outputs": [],
   "source": [
    "model.theta"
   ]
  }
 ],
 "metadata": {
  "kernelspec": {
   "display_name": "Python 3",
   "language": "python",
   "name": "python3"
  },
  "language_info": {
   "codemirror_mode": {
    "name": "ipython",
    "version": 3
   },
   "file_extension": ".py",
   "mimetype": "text/x-python",
   "name": "python",
   "nbconvert_exporter": "python",
   "pygments_lexer": "ipython3",
   "version": "3.7.4"
  }
 },
 "nbformat": 4,
 "nbformat_minor": 2
}
