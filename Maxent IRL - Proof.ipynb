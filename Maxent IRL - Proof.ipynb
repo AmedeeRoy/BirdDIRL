{
 "cells": [
  {
   "cell_type": "markdown",
   "metadata": {},
   "source": [
    "# IRL\n",
    "\n",
    "Easy game formalism :\n",
    "\n",
    "- States = (x, t)\n",
    "- Action = (&uarr;, &darr;, &rarr;, &larr;)\n",
    "- Reward = r(x)"
   ]
  },
  {
   "cell_type": "code",
   "execution_count": 1,
   "metadata": {},
   "outputs": [],
   "source": [
    "import numpy as np\n",
    "import matplotlib.pyplot as plt\n",
    "import mdptoolbox\n",
    "\n",
    "FLOAT_MAX = 1e30"
   ]
  },
  {
   "cell_type": "code",
   "execution_count": 2,
   "metadata": {},
   "outputs": [],
   "source": [
    "# Gridworld provides a basic environment for RL agents to interact with\n",
    "\n",
    "class GridWorld:\n",
    "    \"\"\"\n",
    "    Grid world environment\n",
    "    \"\"\"\n",
    "    \n",
    "    def __init__(self, length_max, height, width, start_pos):\n",
    "        \"\"\"\n",
    "            input: \n",
    "            height - idx : height of the spatial grid\n",
    "            width - idx : width of the spatial grid\n",
    "            length - idx : temporal length of a trip\n",
    "            \n",
    "            start_pos 2-tuple : coordinates within the state_space (height x width)\n",
    "            \n",
    "        \"\"\"\n",
    "        self.height = height\n",
    "        self.width = width\n",
    "        self.length_max = length_max\n",
    "        \n",
    "        self.start = (0, start_pos[0], start_pos[1])\n",
    "        self.end = (length_max-1, start_pos[0], start_pos[1])\n",
    "        \n",
    "        self.n_states = self.height*self.width*self.length_max\n",
    "        \n",
    "        self.actions = [0, 1, 2, 3, 4, 5, 6, 7, 8]\n",
    "        self.n_actions = len(self.actions)\n",
    "        self.neighbors = [(0, 0),(-1, 0),(-1, 1),(0, 1),(1, 1),(1, 0),(1, -1),(0, -1),(-1, -1)]\n",
    "        self.dirs = {0: 'stay', 1: 'n', 2: 'ne', 3: 'e', 4: 'se', 5: 's', 6: 'sw', 7: 'w', 8: 'nw'}\n",
    "    \n",
    "    def get_grid_idx(self):\n",
    "        return np.array(range(self.n_states)).reshape((self.length_max, self.height, self.width))\n",
    "    \n",
    "    def get_list_state(self):\n",
    "        return [(i,j,k) for i in range(self.length_max) for j in range(self.height) for k in range(self.width)]\n",
    "    \n",
    "    def state2idx(self, state):\n",
    "        \"\"\"\n",
    "        input:\n",
    "          2d state\n",
    "        returns:\n",
    "          1d index\n",
    "        \"\"\"\n",
    "        return self.get_grid_idx()[state]\n",
    "\n",
    "    def idx2state(self, idx):\n",
    "        \"\"\"\n",
    "        input:\n",
    "          1d idx\n",
    "        returns:\n",
    "          2d state\n",
    "        \"\"\"\n",
    "        return self.get_list_state()[idx]\n",
    "           \n",
    "    def get_next_state(self, state, action):\n",
    "        \"\"\"\n",
    "        get next state with [action] on [state]\n",
    "        args\n",
    "          state     (z, y, x)\n",
    "          action    int\n",
    "        returns\n",
    "          new state\n",
    "        \"\"\"\n",
    "        if state[0] >= self.length_max-1:\n",
    "            return state\n",
    "        else :\n",
    "            inc = self.neighbors[action]\n",
    "            nei_s = (state[1] + inc[0], state[2] + inc[1])\n",
    "            if nei_s[0] >= 0 and nei_s[0] < self.height and nei_s[1] >= 0 and nei_s[1] < self.width:\n",
    "                next_state = (state[0] + 1, nei_s[0], nei_s[1])\n",
    "            else:\n",
    "                next_state = (state[0] + 1, state[1], state[2])\n",
    "            return next_state\n",
    "\n",
    "    def get_list_previous_state(self, state):\n",
    "        \"\"\"\n",
    "        args\n",
    "          state     (z, y, x)\n",
    "        returns\n",
    "          tuple\n",
    "              - previous state (z, y, x)\n",
    "              - associated action int\n",
    "        \"\"\"\n",
    "        previous = []\n",
    "        for a in self.actions:\n",
    "            inc = self.neighbors[a]\n",
    "            nei_s = (state[1] - inc[0], state[2] - inc[1])\n",
    "\n",
    "            if nei_s[0] >= 0 and nei_s[0] < self.height and nei_s[1] >= 0 and nei_s[1] < self.width:\n",
    "                previous_state = (state[0] - 1, nei_s[0], nei_s[1])\n",
    "                previous.append((previous_state,a))\n",
    "        return previous\n",
    "\n",
    "    def get_transition_mat(self):\n",
    "        \"\"\"\n",
    "        get transition dynamics of the gridworld\n",
    "        return:\n",
    "          P_a         NxNxN_ACTIONS transition probabilities matrix - \n",
    "                        P_a[s0, s1, a] is the transition prob of \n",
    "                        landing at state s1 when taking action \n",
    "                        a at state s0\n",
    "        \"\"\"\n",
    "        P_a = np.zeros((self.n_states, self.n_states, self.n_actions))\n",
    "        \n",
    "        for i in range(self.n_states):\n",
    "            si = self.idx2state(i)\n",
    "            for a in range(self.n_actions):\n",
    "                sj = self.get_next_state(si,a)\n",
    "                j = self.state2idx(sj)\n",
    "                P_a[i, j, a] = 1                \n",
    "        return P_a"
   ]
  },
  {
   "cell_type": "code",
   "execution_count": 3,
   "metadata": {
    "scrolled": true
   },
   "outputs": [],
   "source": [
    "g = GridWorld(5,3,4,(1,1))"
   ]
  },
  {
   "cell_type": "code",
   "execution_count": 4,
   "metadata": {},
   "outputs": [
    {
     "data": {
      "text/plain": [
       "array([[[ 0,  1,  2,  3],\n",
       "        [ 4,  5,  6,  7],\n",
       "        [ 8,  9, 10, 11]],\n",
       "\n",
       "       [[12, 13, 14, 15],\n",
       "        [16, 17, 18, 19],\n",
       "        [20, 21, 22, 23]],\n",
       "\n",
       "       [[24, 25, 26, 27],\n",
       "        [28, 29, 30, 31],\n",
       "        [32, 33, 34, 35]],\n",
       "\n",
       "       [[36, 37, 38, 39],\n",
       "        [40, 41, 42, 43],\n",
       "        [44, 45, 46, 47]],\n",
       "\n",
       "       [[48, 49, 50, 51],\n",
       "        [52, 53, 54, 55],\n",
       "        [56, 57, 58, 59]]])"
      ]
     },
     "execution_count": 4,
     "metadata": {},
     "output_type": "execute_result"
    }
   ],
   "source": [
    "g.get_grid_idx()"
   ]
  },
  {
   "cell_type": "code",
   "execution_count": 5,
   "metadata": {},
   "outputs": [],
   "source": [
    "def value_iteration(P_a, rewards, error=0.01, max_iter=100):\n",
    "    \"\"\"\n",
    "    static value iteration function. Perhaps the most useful function in this repo\n",
    "\n",
    "    inputs:\n",
    "    P_a         NxNxN_ACTIONS transition probabilities matrix - \n",
    "                          P_a[s0, s1, a] is the transition prob of \n",
    "                          landing at state s1 when taking action \n",
    "                          a at state s0\n",
    "    rewards     Nx1 matrix - rewards for all the states\n",
    "    gamma       float - RL discount\n",
    "    error       float - threshold for a stop\n",
    "\n",
    "    returns:\n",
    "    values    Nx1 matrix - estimated values\n",
    "    policy    Nx1 matrix - policy\n",
    "    \"\"\"\n",
    "    N_STATES, _, N_ACTIONS = np.shape(P_a)\n",
    "    n = 0 \n",
    "    values = np.ones([N_STATES])* -FLOAT_MAX\n",
    "    qvalues = np.ones((N_STATES, N_ACTIONS))* -FLOAT_MAX\n",
    "    policy = np.zeros((N_STATES, N_ACTIONS))\n",
    "        \n",
    "    # estimate values\n",
    "    while True:\n",
    "        values_tmp = values.copy()\n",
    "        values[g.state2idx(g.end)] = 0 # goal\n",
    "        \n",
    "        for s in range(N_STATES):\n",
    "            qvalues[s] = [sum([P_a[s, s1, a]*(rewards[s] + values[s1]) for s1 in range(N_STATES)]) for a in range(N_ACTIONS)]\n",
    "            \n",
    "            softmax = max(qvalues[s]) + np.log(1.0 + np.exp(min(qvalues[s]) - max(qvalues[s]))) \n",
    "            values[s] = rewards[s] + softmax\n",
    "            \n",
    "            policy[s,:] = np.exp(qvalues[s]-values[s])/sum(np.exp(qvalues[s]-values[s]))\n",
    "            \n",
    "        if max([abs(values[s] - values_tmp[s]) for s in range(N_STATES)]) < error:\n",
    "            break\n",
    "        n += 1\n",
    "        # max iteration\n",
    "        if n > max_iter:\n",
    "            print(\"    WARNING: max number of iterations\", max_iter)\n",
    "            break    \n",
    "    \n",
    "    return values, policy"
   ]
  },
  {
   "cell_type": "code",
   "execution_count": 6,
   "metadata": {},
   "outputs": [
    {
     "data": {
      "text/plain": [
       "array([[[-1.46661996e+00, -1.52591661e-01, -1.58766669e+00,\n",
       "         -1.91318478e+00],\n",
       "        [-1.01242706e+00, -4.33060086e-02, -1.35200989e+00,\n",
       "         -1.05052820e+00],\n",
       "        [-1.20096265e+00, -1.27595129e-01, -1.89479857e+00,\n",
       "         -1.76361162e+00]],\n",
       "\n",
       "       [[-7.24764053e-01, -1.39038292e+00, -1.32574651e+00,\n",
       "         -2.26107292e+00],\n",
       "        [-1.22785608e-01, -1.44003294e+00, -1.19979375e+00,\n",
       "         -1.68175108e+00],\n",
       "        [-1.11506318e+00, -1.92806850e+00, -1.66445005e+00,\n",
       "         -2.61931343e+00]],\n",
       "\n",
       "       [[-6.84147060e-01, -1.84772682e+00, -1.50100507e+00,\n",
       "         -1.76659398e+00],\n",
       "        [-2.31850408e-01, -5.86872107e-01, -1.08668789e+00,\n",
       "         -1.40568990e+00],\n",
       "        [-1.56537054e+00, -5.49035904e-01, -1.92236743e+00,\n",
       "         -1.72261046e+00]],\n",
       "\n",
       "       [[-1.38574013e+00, -6.55353981e-01, -1.30698620e+00,\n",
       "         -1.00000000e+30],\n",
       "        [-3.04708461e-01, -1.12242464e+00, -2.59031559e-01,\n",
       "         -1.00000000e+30],\n",
       "        [-1.80846441e-02, -1.46464269e+00, -8.25265462e-01,\n",
       "         -1.00000000e+30]],\n",
       "\n",
       "       [[-1.00000000e+30, -1.00000000e+30, -1.00000000e+30,\n",
       "         -1.00000000e+30],\n",
       "        [-1.00000000e+30,  1.32822495e-01, -1.00000000e+30,\n",
       "         -1.00000000e+30],\n",
       "        [-1.00000000e+30, -1.00000000e+30, -1.00000000e+30,\n",
       "         -1.00000000e+30]]])"
      ]
     },
     "execution_count": 6,
     "metadata": {},
     "output_type": "execute_result"
    }
   ],
   "source": [
    "P = g.get_transition_mat()\n",
    "R = -np.random.random((g.n_states, 1))\n",
    "\n",
    "values, policy = value_iteration(P, R, 0.01, 100)\n",
    "\n",
    "values.reshape((g.length_max, g.height, g.width))"
   ]
  },
  {
   "cell_type": "code",
   "execution_count": 7,
   "metadata": {},
   "outputs": [
    {
     "data": {
      "text/plain": [
       "array([[0.1132664 , 0.1132664 , 0.1132664 , 0.05821388, 0.05539413,\n",
       "        0.20679357, 0.1132664 , 0.1132664 , 0.1132664 ],\n",
       "       [0.07857745, 0.07857745, 0.07857745, 0.08382415, 0.09507575,\n",
       "        0.07477135, 0.27913125, 0.1528877 , 0.07857745],\n",
       "       [0.12412236, 0.12412236, 0.12412236, 0.04871278, 0.08694391,\n",
       "        0.14078312, 0.11071744, 0.11635332, 0.12412236],\n",
       "       [0.07562616, 0.07562616, 0.07562616, 0.07562616, 0.07562616,\n",
       "        0.13497965, 0.21856455, 0.19269885, 0.07562616],\n",
       "       [0.17754846, 0.09724807, 0.04998117, 0.0475602 , 0.02919393,\n",
       "        0.06582278, 0.17754846, 0.17754846, 0.17754846],\n",
       "       [0.07681554, 0.0807257 , 0.08611584, 0.09767505, 0.06137422,\n",
       "        0.04715176, 0.10631185, 0.28676249, 0.15706754],\n",
       "       [0.17208514, 0.15171998, 0.05954368, 0.10627521, 0.04161537,\n",
       "        0.10812988, 0.08307257, 0.13533459, 0.14222356],\n",
       "       [0.11091189, 0.06214151, 0.11091189, 0.11091189, 0.11091189,\n",
       "        0.04343101, 0.11284748, 0.17959305, 0.15833938],\n",
       "       [0.10138447, 0.27347153, 0.07325527, 0.04496636, 0.10138447,\n",
       "        0.10138447, 0.10138447, 0.10138447, 0.10138447],\n",
       "       [0.05767474, 0.09395865, 0.11947343, 0.07507125, 0.05767474,\n",
       "        0.05767474, 0.05767474, 0.13003772, 0.35075998],\n",
       "       [0.11137049, 0.17724247, 0.10946024, 0.04286257, 0.11137049,\n",
       "        0.11137049, 0.11137049, 0.08556223, 0.13939052],\n",
       "       [0.06541421, 0.16705145, 0.06541421, 0.06541421, 0.06541421,\n",
       "        0.06541421, 0.06541421, 0.16996676, 0.27049651],\n",
       "       [0.11127868, 0.11127868, 0.11127868, 0.03475967, 0.12264728,\n",
       "        0.17492098, 0.11127868, 0.11127868, 0.11127868],\n",
       "       [0.0517678 , 0.0517678 , 0.0517678 , 0.07322157, 0.11080892,\n",
       "        0.18265937, 0.26051091, 0.16572803, 0.0517678 ],\n",
       "       [0.09450268, 0.09450268, 0.09450268, 0.07246034, 0.10395347,\n",
       "        0.14301441, 0.23574747, 0.06681359, 0.09450268],\n",
       "       [0.09334874, 0.09334874, 0.09334874, 0.09334874, 0.09334874,\n",
       "        0.13392052, 0.1842417 , 0.12174532, 0.09334874],\n",
       "       [0.15319135, 0.09745504, 0.03044164, 0.10741138, 0.11155328,\n",
       "        0.04037326, 0.15319135, 0.15319135, 0.15319135],\n",
       "       [0.1586823 , 0.04497242, 0.06361003, 0.09626341, 0.04173786,\n",
       "        0.16480126, 0.05964472, 0.22631453, 0.14397348],\n",
       "       [0.13012468, 0.08598526, 0.06592956, 0.09458426, 0.0688941 ,\n",
       "        0.05641943, 0.22277116, 0.21449981, 0.06079175],\n",
       "       [0.12038368, 0.08391294, 0.12038368, 0.12038368, 0.12038368,\n",
       "        0.0876861 , 0.07180876, 0.16561834, 0.10943916],\n",
       "       [0.06571216, 0.24933668, 0.17482447, 0.18156589, 0.06571216,\n",
       "        0.06571216, 0.06571216, 0.06571216, 0.06571216],\n",
       "       [0.13270648, 0.12777918, 0.07751627, 0.03360948, 0.13270648,\n",
       "        0.13270648, 0.13270648, 0.04802901, 0.18224014],\n",
       "       [0.0589821 , 0.13603518, 0.09888044, 0.07202339, 0.0589821 ,\n",
       "        0.0589821 , 0.0589821 , 0.23288982, 0.22424278],\n",
       "       [0.09920057, 0.13619182, 0.09920057, 0.09920057, 0.09920057,\n",
       "        0.09920057, 0.09920057, 0.0812383 , 0.18736645],\n",
       "       [0.08113697, 0.08113697, 0.08113697, 0.16843077, 0.10557844,\n",
       "        0.23916898, 0.08113697, 0.08113697, 0.08113697],\n",
       "       [0.11714972, 0.11714972, 0.11714972, 0.06105777, 0.1741253 ,\n",
       "        0.07343364, 0.16635071, 0.05643371, 0.11714972],\n",
       "       [0.10026899, 0.10026899, 0.10026899, 0.        , 0.        ,\n",
       "        0.28594833, 0.12059261, 0.1923831 , 0.10026899],\n",
       "       [0.        , 0.        , 0.        , 0.        , 0.        ,\n",
       "        0.        , 0.74038194, 0.25961806, 0.        ],\n",
       "       [0.14024562, 0.04757768, 0.09876565, 0.06190984, 0.04396796,\n",
       "        0.18679638, 0.14024562, 0.14024562, 0.14024562],\n",
       "       [0.07191528, 0.11472746, 0.05979531, 0.17052499, 0.09680009,\n",
       "        0.05107375, 0.21698512, 0.16291115, 0.05526685],\n",
       "       [0.3019013 , 0.10586297, 0.        , 0.        , 0.        ,\n",
       "        0.17137707, 0.09042213, 0.12732044, 0.2031161 ],\n",
       "       [0.        , 0.        , 0.        , 0.        , 0.        ,\n",
       "        0.        , 0.2959158 , 0.52129123, 0.18279297],\n",
       "       [0.13665678, 0.1026011 , 0.04529209, 0.03216614, 0.13665678,\n",
       "        0.13665678, 0.13665678, 0.13665678, 0.13665678],\n",
       "       [0.05530865, 0.07787829, 0.18466444, 0.10482648, 0.05530865,\n",
       "        0.05530865, 0.05530865, 0.23497691, 0.17641928],\n",
       "       [0.14220368, 0.25050886, 0.        , 0.        , 0.14220368,\n",
       "        0.14220368, 0.14220368, 0.07502964, 0.10564678],\n",
       "       [0.        , 0.        , 0.        , 0.        , 0.        ,\n",
       "        0.        , 0.        , 0.36210629, 0.63789371],\n",
       "       [0.        , 0.        , 0.        , 0.        , 1.        ,\n",
       "        0.        , 0.        , 0.        , 0.        ],\n",
       "       [0.        , 0.        , 0.        , 0.        , 0.        ,\n",
       "        1.        , 0.        , 0.        , 0.        ],\n",
       "       [0.        , 0.        , 0.        , 0.        , 0.        ,\n",
       "        0.        , 1.        , 0.        , 0.        ],\n",
       "       [0.11111111, 0.11111111, 0.11111111, 0.11111111, 0.11111111,\n",
       "        0.11111111, 0.11111111, 0.11111111, 0.11111111],\n",
       "       [0.        , 0.        , 0.        , 1.        , 0.        ,\n",
       "        0.        , 0.        , 0.        , 0.        ],\n",
       "       [1.        , 0.        , 0.        , 0.        , 0.        ,\n",
       "        0.        , 0.        , 0.        , 0.        ],\n",
       "       [0.        , 0.        , 0.        , 0.        , 0.        ,\n",
       "        0.        , 0.        , 1.        , 0.        ],\n",
       "       [0.11111111, 0.11111111, 0.11111111, 0.11111111, 0.11111111,\n",
       "        0.11111111, 0.11111111, 0.11111111, 0.11111111],\n",
       "       [0.        , 0.        , 1.        , 0.        , 0.        ,\n",
       "        0.        , 0.        , 0.        , 0.        ],\n",
       "       [0.        , 1.        , 0.        , 0.        , 0.        ,\n",
       "        0.        , 0.        , 0.        , 0.        ],\n",
       "       [0.        , 0.        , 0.        , 0.        , 0.        ,\n",
       "        0.        , 0.        , 0.        , 1.        ],\n",
       "       [0.11111111, 0.11111111, 0.11111111, 0.11111111, 0.11111111,\n",
       "        0.11111111, 0.11111111, 0.11111111, 0.11111111],\n",
       "       [0.11111111, 0.11111111, 0.11111111, 0.11111111, 0.11111111,\n",
       "        0.11111111, 0.11111111, 0.11111111, 0.11111111],\n",
       "       [0.11111111, 0.11111111, 0.11111111, 0.11111111, 0.11111111,\n",
       "        0.11111111, 0.11111111, 0.11111111, 0.11111111],\n",
       "       [0.11111111, 0.11111111, 0.11111111, 0.11111111, 0.11111111,\n",
       "        0.11111111, 0.11111111, 0.11111111, 0.11111111],\n",
       "       [0.11111111, 0.11111111, 0.11111111, 0.11111111, 0.11111111,\n",
       "        0.11111111, 0.11111111, 0.11111111, 0.11111111],\n",
       "       [0.11111111, 0.11111111, 0.11111111, 0.11111111, 0.11111111,\n",
       "        0.11111111, 0.11111111, 0.11111111, 0.11111111],\n",
       "       [0.11111111, 0.11111111, 0.11111111, 0.11111111, 0.11111111,\n",
       "        0.11111111, 0.11111111, 0.11111111, 0.11111111],\n",
       "       [0.11111111, 0.11111111, 0.11111111, 0.11111111, 0.11111111,\n",
       "        0.11111111, 0.11111111, 0.11111111, 0.11111111],\n",
       "       [0.11111111, 0.11111111, 0.11111111, 0.11111111, 0.11111111,\n",
       "        0.11111111, 0.11111111, 0.11111111, 0.11111111],\n",
       "       [0.11111111, 0.11111111, 0.11111111, 0.11111111, 0.11111111,\n",
       "        0.11111111, 0.11111111, 0.11111111, 0.11111111],\n",
       "       [0.11111111, 0.11111111, 0.11111111, 0.11111111, 0.11111111,\n",
       "        0.11111111, 0.11111111, 0.11111111, 0.11111111],\n",
       "       [0.11111111, 0.11111111, 0.11111111, 0.11111111, 0.11111111,\n",
       "        0.11111111, 0.11111111, 0.11111111, 0.11111111],\n",
       "       [0.11111111, 0.11111111, 0.11111111, 0.11111111, 0.11111111,\n",
       "        0.11111111, 0.11111111, 0.11111111, 0.11111111]])"
      ]
     },
     "execution_count": 7,
     "metadata": {},
     "output_type": "execute_result"
    }
   ],
   "source": [
    "policy"
   ]
  },
  {
   "cell_type": "code",
   "execution_count": 8,
   "metadata": {},
   "outputs": [],
   "source": [
    "def compute_state_visition_freq(P_a, start_idx, nb_step, policy):\n",
    "    \"\"\"compute the expected states visition frequency p(s| theta, T) \n",
    "    using dynamic programming\n",
    "    inputs:\n",
    "    P_a     NxNxN_ACTIONS matrix - transition dynamics\n",
    "    gamma   float - discount factor\n",
    "    start_idx   idx of start position\n",
    "    nb_step idx - nb of step to iterate\n",
    "    policy  Nx1 vector - policy\n",
    "\n",
    "    returns:\n",
    "    p       Nx1 vector - state visitation frequencies\n",
    "    \"\"\"\n",
    "    N_STATES, _, N_ACTIONS = np.shape(P_a)\n",
    "\n",
    "    # mu[s, t] is the prob of visiting state s at time t\n",
    "    mu = np.zeros([N_STATES, nb_step]) \n",
    "\n",
    "    mu[start_idx, 0] = 1\n",
    "    for s in range(N_STATES):\n",
    "        for t in range(nb_step-1):\n",
    "            mu[s, t+1] = sum([sum([mu[pre_s, t]*P_a[pre_s, s, a1]*policy[pre_s, a1] for a1 in range(N_ACTIONS)]) for pre_s in range(N_STATES)])\n",
    "\n",
    "    p = np.sum(mu, 1)\n",
    "    return p"
   ]
  },
  {
   "cell_type": "code",
   "execution_count": 9,
   "metadata": {},
   "outputs": [
    {
     "data": {
      "text/plain": [
       "array([[[0.        , 0.        , 0.        , 0.        ],\n",
       "        [0.        , 1.        , 0.        , 0.        ],\n",
       "        [0.        , 0.        , 0.        , 0.        ]],\n",
       "\n",
       "       [[0.15706754, 0.0807257 , 0.08611584, 0.        ],\n",
       "        [0.28676249, 0.07681554, 0.09767505, 0.        ],\n",
       "        [0.10631185, 0.04715176, 0.06137422, 0.        ]],\n",
       "\n",
       "       [[0.15725397, 0.04605123, 0.05174843, 0.01267966],\n",
       "        [0.27670733, 0.15662656, 0.05336948, 0.02425927],\n",
       "        [0.06033972, 0.12503319, 0.02478155, 0.01114961]],\n",
       "\n",
       "       [[0.10097485, 0.11416023, 0.04630851, 0.        ],\n",
       "        [0.2542643 , 0.07650297, 0.12408051, 0.        ],\n",
       "        [0.16452846, 0.05645346, 0.06272672, 0.        ]],\n",
       "\n",
       "       [[0.        , 0.        , 0.        , 0.        ],\n",
       "        [0.        , 1.        , 0.        , 0.        ],\n",
       "        [0.        , 0.        , 0.        , 0.        ]]])"
      ]
     },
     "execution_count": 9,
     "metadata": {},
     "output_type": "execute_result"
    }
   ],
   "source": [
    "svf = compute_state_visition_freq(P, g.state2idx((0,1,1)), g.length_max, policy)\n",
    "svf.reshape((g.length_max, g.height, g.width))"
   ]
  },
  {
   "cell_type": "code",
   "execution_count": 10,
   "metadata": {},
   "outputs": [
    {
     "data": {
      "text/plain": [
       "array([[[ 0,  1,  2,  3],\n",
       "        [ 4,  5,  6,  7],\n",
       "        [ 8,  9, 10, 11]],\n",
       "\n",
       "       [[12, 13, 14, 15],\n",
       "        [16, 17, 18, 19],\n",
       "        [20, 21, 22, 23]],\n",
       "\n",
       "       [[24, 25, 26, 27],\n",
       "        [28, 29, 30, 31],\n",
       "        [32, 33, 34, 35]],\n",
       "\n",
       "       [[36, 37, 38, 39],\n",
       "        [40, 41, 42, 43],\n",
       "        [44, 45, 46, 47]],\n",
       "\n",
       "       [[48, 49, 50, 51],\n",
       "        [52, 53, 54, 55],\n",
       "        [56, 57, 58, 59]]])"
      ]
     },
     "execution_count": 10,
     "metadata": {},
     "output_type": "execute_result"
    }
   ],
   "source": [
    "g.get_grid_idx()"
   ]
  },
  {
   "cell_type": "code",
   "execution_count": 11,
   "metadata": {},
   "outputs": [
    {
     "data": {
      "text/plain": [
       "array([[ 0.,  0.,  0.,  0.],\n",
       "       [ 0., 12.,  4.,  0.],\n",
       "       [ 0.,  7.,  7.,  0.]])"
      ]
     },
     "execution_count": 11,
     "metadata": {},
     "output_type": "execute_result"
    }
   ],
   "source": [
    "## Create expert trajectories\n",
    "\n",
    "traj_1 = [5, 18, 33, 46, 53]\n",
    "traj_2 = [5, 22, 30, 45, 53]\n",
    "traj_3 = [5, 21, 34, 45, 53]\n",
    "traj_4 = [5, 21, 33, 45, 53]\n",
    "traj_5 = [5, 22, 34, 42, 53]\n",
    "traj_6 = [5, 22, 34, 42, 53]\n",
    "\n",
    "trajs = [traj_1, traj_2, traj_3, traj_4, traj_5, traj_6]\n",
    "\n",
    "\n",
    "freq = np.zeros((3,4))\n",
    "for traj in trajs:\n",
    "    for idx in traj:\n",
    "        state = g.idx2state(idx)\n",
    "        freq[state[1], state[2]] += 1\n",
    "        \n",
    "freq"
   ]
  },
  {
   "cell_type": "code",
   "execution_count": 12,
   "metadata": {},
   "outputs": [],
   "source": [
    "## feat_map\n",
    "\n",
    "map_mask = [[-1, -1, -1, 0],\n",
    "            [-1, 0, 0, 0],\n",
    "            [-1, 0, 0, 0]]\n",
    "\n",
    "map_dist = [[-0.5, -0.5, -0.5, -1],\n",
    "            [-0.5, 0, -0.5, -1],\n",
    "            [-0.5, -0.5, -0.5, -1]]\n",
    "\n",
    "map_gradv = [[0, 0, 0, 0],\n",
    "            [-0.5, -0.5, -0.5, -0.5],\n",
    "            [-1, -1, -1, -1]]\n",
    "\n",
    "map_gradh = [[0, -0.3, -0.6, -0.9],\n",
    "            [0, -0.3, -0.6, -0.9],\n",
    "            [0, -0.3, -0.6, -0.9]]\n",
    "\n",
    "map_const = [[0, 0, 0, 0],\n",
    "            [0, 0, 0, 0],\n",
    "            [0, 0, 0, 0]]\n",
    "\n",
    "\n",
    "\n",
    "feat_map = np.array([map_mask, map_dist, map_gradv, map_gradh, map_const]).reshape(5,12).T\n",
    "for t in range(g.length_max-1):\n",
    "    feature =  np.array([map_mask, map_dist, map_gradv, map_gradh, map_const]).reshape(5,12).T\n",
    "    feature[:,4] -= 0.1*(t+1)\n",
    "    \n",
    "    feat_map = np.vstack([feat_map, feature])"
   ]
  },
  {
   "cell_type": "code",
   "execution_count": 13,
   "metadata": {},
   "outputs": [
    {
     "data": {
      "text/plain": [
       "array([[-1. , -0.5,  0. ,  0. ,  0. ],\n",
       "       [-1. , -0.5,  0. , -0.3,  0. ],\n",
       "       [-1. , -0.5,  0. , -0.6,  0. ],\n",
       "       [ 0. , -1. ,  0. , -0.9,  0. ],\n",
       "       [-1. , -0.5, -0.5,  0. ,  0. ],\n",
       "       [ 0. ,  0. , -0.5, -0.3,  0. ],\n",
       "       [ 0. , -0.5, -0.5, -0.6,  0. ],\n",
       "       [ 0. , -1. , -0.5, -0.9,  0. ],\n",
       "       [-1. , -0.5, -1. ,  0. ,  0. ],\n",
       "       [ 0. , -0.5, -1. , -0.3,  0. ],\n",
       "       [ 0. , -0.5, -1. , -0.6,  0. ],\n",
       "       [ 0. , -1. , -1. , -0.9,  0. ],\n",
       "       [-1. , -0.5,  0. ,  0. , -0.1],\n",
       "       [-1. , -0.5,  0. , -0.3, -0.1],\n",
       "       [-1. , -0.5,  0. , -0.6, -0.1],\n",
       "       [ 0. , -1. ,  0. , -0.9, -0.1],\n",
       "       [-1. , -0.5, -0.5,  0. , -0.1],\n",
       "       [ 0. ,  0. , -0.5, -0.3, -0.1],\n",
       "       [ 0. , -0.5, -0.5, -0.6, -0.1],\n",
       "       [ 0. , -1. , -0.5, -0.9, -0.1],\n",
       "       [-1. , -0.5, -1. ,  0. , -0.1],\n",
       "       [ 0. , -0.5, -1. , -0.3, -0.1],\n",
       "       [ 0. , -0.5, -1. , -0.6, -0.1],\n",
       "       [ 0. , -1. , -1. , -0.9, -0.1],\n",
       "       [-1. , -0.5,  0. ,  0. , -0.2],\n",
       "       [-1. , -0.5,  0. , -0.3, -0.2],\n",
       "       [-1. , -0.5,  0. , -0.6, -0.2],\n",
       "       [ 0. , -1. ,  0. , -0.9, -0.2],\n",
       "       [-1. , -0.5, -0.5,  0. , -0.2],\n",
       "       [ 0. ,  0. , -0.5, -0.3, -0.2],\n",
       "       [ 0. , -0.5, -0.5, -0.6, -0.2],\n",
       "       [ 0. , -1. , -0.5, -0.9, -0.2],\n",
       "       [-1. , -0.5, -1. ,  0. , -0.2],\n",
       "       [ 0. , -0.5, -1. , -0.3, -0.2],\n",
       "       [ 0. , -0.5, -1. , -0.6, -0.2],\n",
       "       [ 0. , -1. , -1. , -0.9, -0.2],\n",
       "       [-1. , -0.5,  0. ,  0. , -0.3],\n",
       "       [-1. , -0.5,  0. , -0.3, -0.3],\n",
       "       [-1. , -0.5,  0. , -0.6, -0.3],\n",
       "       [ 0. , -1. ,  0. , -0.9, -0.3],\n",
       "       [-1. , -0.5, -0.5,  0. , -0.3],\n",
       "       [ 0. ,  0. , -0.5, -0.3, -0.3],\n",
       "       [ 0. , -0.5, -0.5, -0.6, -0.3],\n",
       "       [ 0. , -1. , -0.5, -0.9, -0.3],\n",
       "       [-1. , -0.5, -1. ,  0. , -0.3],\n",
       "       [ 0. , -0.5, -1. , -0.3, -0.3],\n",
       "       [ 0. , -0.5, -1. , -0.6, -0.3],\n",
       "       [ 0. , -1. , -1. , -0.9, -0.3],\n",
       "       [-1. , -0.5,  0. ,  0. , -0.4],\n",
       "       [-1. , -0.5,  0. , -0.3, -0.4],\n",
       "       [-1. , -0.5,  0. , -0.6, -0.4],\n",
       "       [ 0. , -1. ,  0. , -0.9, -0.4],\n",
       "       [-1. , -0.5, -0.5,  0. , -0.4],\n",
       "       [ 0. ,  0. , -0.5, -0.3, -0.4],\n",
       "       [ 0. , -0.5, -0.5, -0.6, -0.4],\n",
       "       [ 0. , -1. , -0.5, -0.9, -0.4],\n",
       "       [-1. , -0.5, -1. ,  0. , -0.4],\n",
       "       [ 0. , -0.5, -1. , -0.3, -0.4],\n",
       "       [ 0. , -0.5, -1. , -0.6, -0.4],\n",
       "       [ 0. , -1. , -1. , -0.9, -0.4]])"
      ]
     },
     "execution_count": 13,
     "metadata": {},
     "output_type": "execute_result"
    }
   ],
   "source": [
    "feat_map"
   ]
  },
  {
   "cell_type": "code",
   "execution_count": 14,
   "metadata": {},
   "outputs": [],
   "source": [
    "def maxent_irl(feat_map, P_a, trajs, lr, error, max_iter):\n",
    "    \"\"\"\n",
    "    Maximum Entropy Inverse Reinforcement Learning (Maxent IRL)\n",
    "    inputs:\n",
    "    feat_map    NxD matrix - the features for each state\n",
    "    P_a         NxNxN_ACTIONS matrix - P_a[s0, s1, a] is the transition prob of \n",
    "                                       landing at state s1 when taking action \n",
    "                                       a at state s0\n",
    "    gamma       float - RL discount factor\n",
    "    trajs       a list of demonstrations\n",
    "    lr          float - learning rate\n",
    "    n_iters     int - number of optimization steps\n",
    "    returns\n",
    "    rewards     Nx1 vector - recoverred state rewards\n",
    "    \"\"\"\n",
    "    N_STATES, _, N_ACTIONS = np.shape(P_a)\n",
    "\n",
    "    # init parameters\n",
    "    theta = np.random.uniform(size=(feat_map.shape[1]))\n",
    "    \n",
    "    # calc feature expectations\n",
    "    feat_exp = np.zeros([feat_map.shape[1]])\n",
    "    for episode in trajs:\n",
    "        for step in episode:\n",
    "            feat_exp += feat_map[step,:]\n",
    "    feat_exp = feat_exp/len(trajs)\n",
    "\n",
    "    n = 0\n",
    "    error_history = []\n",
    "    # training\n",
    "    while True:\n",
    "        n += 1\n",
    "        if n % (max_iter/20) == 0:\n",
    "            print('iteration: {}/{}'.format(n, max_iter))\n",
    "\n",
    "        # compute reward function\n",
    "        rewards = np.dot(feat_map, theta)\n",
    "\n",
    "        # compute policy\n",
    "        _, policy = value_iteration(P_a, rewards, error=0.01, max_iter=100)\n",
    "\n",
    "        # compute state visition frequences\n",
    "        svf = compute_state_visition_freq(P_a, g.state2idx((0,1,1)), g.length_max, policy)\n",
    "        \n",
    "        # compute gradients\n",
    "        grad = feat_exp - feat_map.T.dot(svf)\n",
    "                \n",
    "        # update params\n",
    "        theta += lr * grad\n",
    "       \n",
    "        error_history.append(sum(grad**2))\n",
    "        if sum(grad**2) < error:\n",
    "            break\n",
    "        # max iteration\n",
    "        if n > max_iter:\n",
    "            print(\"    WARNING: max number of iterations\", max_iter)\n",
    "            break \n",
    "            \n",
    "    rewards = np.dot(feat_map, theta)\n",
    "    return rewards, policy, error_history"
   ]
  },
  {
   "cell_type": "code",
   "execution_count": 15,
   "metadata": {
    "scrolled": true
   },
   "outputs": [
    {
     "name": "stdout",
     "output_type": "stream",
     "text": [
      "iteration: 5/100\n",
      "iteration: 10/100\n",
      "iteration: 15/100\n",
      "iteration: 20/100\n",
      "iteration: 25/100\n",
      "iteration: 30/100\n",
      "iteration: 35/100\n",
      "iteration: 40/100\n"
     ]
    }
   ],
   "source": [
    "rewards, policy, error_history = maxent_irl(feat_map, P, trajs, 0.1, 0.01, 100)"
   ]
  },
  {
   "cell_type": "code",
   "execution_count": 16,
   "metadata": {},
   "outputs": [
    {
     "data": {
      "text/plain": [
       "[<matplotlib.lines.Line2D at 0x7fcf18194610>]"
      ]
     },
     "execution_count": 16,
     "metadata": {},
     "output_type": "execute_result"
    },
    {
     "data": {
      "image/png": "[encoded data removed]",
      "text/plain": [
       "<Figure size 432x288 with 1 Axes>"
      ]
     },
     "metadata": {
      "needs_background": "light"
     },
     "output_type": "display_data"
    }
   ],
   "source": [
    "plt.plot(error_history)"
   ]
  },
  {
   "cell_type": "code",
   "execution_count": 17,
   "metadata": {},
   "outputs": [
    {
     "data": {
      "image/png": "[encoded data removed]",
      "text/plain": [
       "<Figure size 432x288 with 1 Axes>"
      ]
     },
     "metadata": {
      "needs_background": "light"
     },
     "output_type": "display_data"
    }
   ],
   "source": [
    "rewards_grid = rewards.reshape((g.length_max, g.height, g.width))\n",
    "rewards_grid = rewards_grid[0,:,:]\n",
    "\n",
    "# Map\n",
    "\n",
    "plt.imshow(rewards_grid);\n",
    "plt.title('Rewards')\n",
    "plt.show()"
   ]
  },
  {
   "cell_type": "code",
   "execution_count": 18,
   "metadata": {},
   "outputs": [
    {
     "data": {
      "text/plain": [
       "array([[[-1.13195329, -1.06192749, -0.99190169,  0.22719791],\n",
       "        [-0.7380773 ,  0.46390179,  0.54248785,  0.6210739 ],\n",
       "        [-0.34420131,  0.86633804,  0.93636384,  1.01494989]],\n",
       "\n",
       "       [[-1.20625899, -1.13623319, -1.06620738,  0.15289222],\n",
       "        [-0.812383  ,  0.3895961 ,  0.46818215,  0.54676821],\n",
       "        [-0.41850701,  0.79203234,  0.86205814,  0.9406442 ]],\n",
       "\n",
       "       [[-1.28056468, -1.21053888, -1.14051308,  0.07858652],\n",
       "        [-0.88668869,  0.3152904 ,  0.39387646,  0.47246251],\n",
       "        [-0.4928127 ,  0.71772665,  0.78775245,  0.8663385 ]],\n",
       "\n",
       "       [[-1.35487038, -1.28484457, -1.21481877,  0.00428083],\n",
       "        [-0.96099438,  0.24098471,  0.31957076,  0.39815682],\n",
       "        [-0.56711839,  0.64342095,  0.71344676,  0.79203281]],\n",
       "\n",
       "       [[-1.42917607, -1.35915027, -1.28912447, -0.07002487],\n",
       "        [-1.03530008,  0.16667902,  0.24526507,  0.32385113],\n",
       "        [-0.64142409,  0.56911526,  0.63914106,  0.71772712]]])"
      ]
     },
     "execution_count": 18,
     "metadata": {},
     "output_type": "execute_result"
    }
   ],
   "source": [
    "rewards.reshape((g.length_max, g.height, g.width))"
   ]
  },
  {
   "cell_type": "code",
   "execution_count": 22,
   "metadata": {},
   "outputs": [],
   "source": [
    "def generate_demonstrations(g, policy, n_trajs=10, len_traj=5):\n",
    "    \"\"\"gatheres expert demonstrations\n",
    "    inputs:\n",
    "    policy      Nx1 matrix\n",
    "    n_trajs     int - number of trajectories to generate\n",
    "    rand_start  bool - randomly picking start position or not\n",
    "    start_pos   2x1 list - set start position, default [0,0]\n",
    "    returns:\n",
    "    trajs       a list of trajectories - each element in the list is a list of Steps representing an episode\n",
    "    \"\"\"\n",
    "\n",
    "    trajs = []\n",
    "    for i in range(n_trajs):\n",
    "        \n",
    "        episode = []\n",
    "        state = (0,1,1)\n",
    "        idx = g.state2idx(state)\n",
    "        episode.append(idx)\n",
    "        \n",
    "        # while not is_done:\n",
    "        for _ in range(len_traj-1):\n",
    "\n",
    "            act = np.random.choice(g.n_actions, p= policy[idx,:])\n",
    "            next_state = g.get_next_state(state, act)\n",
    "            next_idx = g.state2idx(next_state)\n",
    "            episode.append(next_idx)\n",
    "            state = next_state\n",
    "            idx = next_idx\n",
    "            \n",
    "        trajs.append(episode)\n",
    "    return trajs"
   ]
  },
  {
   "cell_type": "code",
   "execution_count": 23,
   "metadata": {
    "scrolled": true
   },
   "outputs": [
    {
     "data": {
      "text/plain": [
       "[[5, 18, 29, 41, 53],\n",
       " [5, 18, 34, 46, 53],\n",
       " [5, 22, 30, 46, 53],\n",
       " [5, 22, 34, 45, 53],\n",
       " [5, 21, 33, 45, 53],\n",
       " [5, 18, 31, 46, 53],\n",
       " [5, 18, 34, 46, 53],\n",
       " [5, 22, 30, 46, 53],\n",
       " [5, 17, 34, 41, 53],\n",
       " [5, 22, 35, 42, 53],\n",
       " [5, 21, 30, 41, 53],\n",
       " [5, 22, 34, 46, 53],\n",
       " [5, 21, 33, 45, 53],\n",
       " [5, 22, 33, 46, 53],\n",
       " [5, 22, 34, 46, 53],\n",
       " [5, 22, 34, 46, 53],\n",
       " [5, 18, 35, 46, 53],\n",
       " [5, 21, 33, 41, 53],\n",
       " [5, 17, 34, 46, 53],\n",
       " [5, 18, 35, 46, 53],\n",
       " [5, 21, 30, 46, 53],\n",
       " [5, 22, 33, 41, 53],\n",
       " [5, 22, 34, 42, 53],\n",
       " [5, 22, 34, 42, 53],\n",
       " [5, 17, 34, 46, 53],\n",
       " [5, 21, 33, 45, 53],\n",
       " [5, 22, 34, 45, 53],\n",
       " [5, 22, 33, 45, 53],\n",
       " [5, 21, 30, 46, 53],\n",
       " [5, 22, 30, 45, 53],\n",
       " [5, 18, 30, 46, 53],\n",
       " [5, 18, 33, 45, 53],\n",
       " [5, 22, 34, 41, 53],\n",
       " [5, 21, 34, 46, 53],\n",
       " [5, 16, 33, 45, 53],\n",
       " [5, 21, 33, 42, 53],\n",
       " [5, 16, 29, 45, 53],\n",
       " [5, 18, 34, 46, 53],\n",
       " [5, 21, 30, 45, 53],\n",
       " [5, 22, 29, 41, 53],\n",
       " [5, 22, 34, 46, 53],\n",
       " [5, 22, 34, 46, 53],\n",
       " [5, 21, 29, 46, 53],\n",
       " [5, 21, 30, 46, 53],\n",
       " [5, 18, 34, 46, 53],\n",
       " [5, 21, 33, 46, 53],\n",
       " [5, 18, 33, 46, 53],\n",
       " [5, 22, 34, 46, 53],\n",
       " [5, 22, 35, 42, 53],\n",
       " [5, 22, 34, 46, 53]]"
      ]
     },
     "execution_count": 23,
     "metadata": {},
     "output_type": "execute_result"
    }
   ],
   "source": [
    "trajs = generate_demonstrations(g, policy, 50, 5)\n",
    "trajs"
   ]
  },
  {
   "cell_type": "code",
   "execution_count": 24,
   "metadata": {},
   "outputs": [
    {
     "data": {
      "text/plain": [
       "array([[  0.,   0.,   0.,   0.],\n",
       "       [  2., 114.,  25.,   1.],\n",
       "       [  0.,  36.,  68.,   4.]])"
      ]
     },
     "execution_count": 24,
     "metadata": {},
     "output_type": "execute_result"
    }
   ],
   "source": [
    "freq = np.zeros((3,4))\n",
    "for traj in trajs:\n",
    "    for idx in traj:\n",
    "        state = g.idx2state(idx)\n",
    "        freq[state[1], state[2]] += 1\n",
    "        \n",
    "freq"
   ]
  },
  {
   "cell_type": "code",
   "execution_count": null,
   "metadata": {},
   "outputs": [],
   "source": []
  }
 ],
 "metadata": {
  "kernelspec": {
   "display_name": "Python 3",
   "language": "python",
   "name": "python3"
  },
  "language_info": {
   "codemirror_mode": {
    "name": "ipython",
    "version": 3
   },
   "file_extension": ".py",
   "mimetype": "text/x-python",
   "name": "python",
   "nbconvert_exporter": "python",
   "pygments_lexer": "ipython3",
   "version": "3.7.4"
  }
 },
 "nbformat": 4,
 "nbformat_minor": 2
}
