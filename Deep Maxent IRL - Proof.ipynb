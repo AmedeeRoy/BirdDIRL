{
 "cells": [
  {
   "cell_type": "markdown",
   "metadata": {},
   "source": [
    "# Deep IRL\n",
    "\n",
    "Easy game formalism :\n",
    "\n",
    "- States = (x, t)\n",
    "- Action = (&uarr;, &darr;, &rarr;, &larr;)\n",
    "- Reward = r(x)"
   ]
  },
  {
   "cell_type": "code",
   "execution_count": 315,
   "metadata": {},
   "outputs": [],
   "source": [
    "import numpy as np\n",
    "import matplotlib.pyplot as plt\n",
    "import IPython\n",
    "FLOAT_MAX = 1e30"
   ]
  },
  {
   "cell_type": "code",
   "execution_count": 2,
   "metadata": {},
   "outputs": [],
   "source": [
    "# Gridworld provides a basic environment for RL agents to interact with\n",
    "\n",
    "class GridWorld:\n",
    "    \"\"\"\n",
    "    Grid world environment\n",
    "    \"\"\"\n",
    "    \n",
    "    def __init__(self, length_max, height, width, start_pos):\n",
    "        \"\"\"\n",
    "            input: \n",
    "            height - idx : height of the spatial grid\n",
    "            width - idx : width of the spatial grid\n",
    "            length - idx : temporal length of a trip\n",
    "            \n",
    "            start_pos 2-tuple : coordinates within the state_space (height x width)\n",
    "            \n",
    "        \"\"\"\n",
    "        self.height = height\n",
    "        self.width = width\n",
    "        self.length_max = length_max\n",
    "        \n",
    "        self.start = (0, start_pos[0], start_pos[1])\n",
    "        self.end = (length_max-1, start_pos[0], start_pos[1])\n",
    "        \n",
    "        self.n_states = self.height*self.width*self.length_max\n",
    "        \n",
    "        self.actions = [0, 1, 2, 3, 4, 5, 6, 7, 8]\n",
    "        self.n_actions = len(self.actions)\n",
    "        self.neighbors = [(0, 0),(-1, 0),(-1, 1),(0, 1),(1, 1),(1, 0),(1, -1),(0, -1),(-1, -1)]\n",
    "        self.dirs = {0: 'stay', 1: 'n', 2: 'ne', 3: 'e', 4: 'se', 5: 's', 6: 'sw', 7: 'w', 8: 'nw'}\n",
    "    \n",
    "    def get_grid_idx(self):\n",
    "        return np.array(range(self.n_states)).reshape((self.length_max, self.height, self.width))\n",
    "    \n",
    "    def get_list_state(self):\n",
    "        return [(i,j,k) for i in range(self.length_max) for j in range(self.height) for k in range(self.width)]\n",
    "    \n",
    "    def state2idx(self, state):\n",
    "        \"\"\"\n",
    "        input:\n",
    "          2d state\n",
    "        returns:\n",
    "          1d index\n",
    "        \"\"\"\n",
    "        return self.get_grid_idx()[state]\n",
    "\n",
    "    def idx2state(self, idx):\n",
    "        \"\"\"\n",
    "        input:\n",
    "          1d idx\n",
    "        returns:\n",
    "          2d state\n",
    "        \"\"\"\n",
    "        return self.get_list_state()[idx]\n",
    "           \n",
    "    def get_next_state(self, state, action):\n",
    "        \"\"\"\n",
    "        get next state with [action] on [state]\n",
    "        args\n",
    "          state     (z, y, x)\n",
    "          action    int\n",
    "        returns\n",
    "          new state\n",
    "        \"\"\"\n",
    "        if state[0] >= self.length_max-1:\n",
    "            return state\n",
    "        else :\n",
    "            inc = self.neighbors[action]\n",
    "            nei_s = (state[1] + inc[0], state[2] + inc[1])\n",
    "            if nei_s[0] >= 0 and nei_s[0] < self.height and nei_s[1] >= 0 and nei_s[1] < self.width:\n",
    "                next_state = (state[0] + 1, nei_s[0], nei_s[1])\n",
    "            else:\n",
    "                next_state = (state[0] + 1, state[1], state[2])\n",
    "            return next_state\n",
    "\n",
    "    def get_list_previous_state(self, state):\n",
    "        \"\"\"\n",
    "        args\n",
    "          state     (z, y, x)\n",
    "        returns\n",
    "          tuple\n",
    "              - previous state (z, y, x)\n",
    "              - associated action int\n",
    "        \"\"\"\n",
    "        previous = []\n",
    "        for a in self.actions:\n",
    "            inc = self.neighbors[a]\n",
    "            nei_s = (state[1] - inc[0], state[2] - inc[1])\n",
    "\n",
    "            if nei_s[0] >= 0 and nei_s[0] < self.height and nei_s[1] >= 0 and nei_s[1] < self.width:\n",
    "                previous_state = (state[0] - 1, nei_s[0], nei_s[1])\n",
    "                previous.append((previous_state,a))\n",
    "        return previous\n",
    "\n",
    "    def get_transition_mat(self):\n",
    "        \"\"\"\n",
    "        get transition dynamics of the gridworld\n",
    "        return:\n",
    "          P_a         NxNxN_ACTIONS transition probabilities matrix - \n",
    "                        P_a[s0, s1, a] is the transition prob of \n",
    "                        landing at state s1 when taking action \n",
    "                        a at state s0\n",
    "        \"\"\"\n",
    "        P_a = np.zeros((self.n_states, self.n_states, self.n_actions))\n",
    "        \n",
    "        for i in range(self.n_states):\n",
    "            si = self.idx2state(i)\n",
    "            for a in range(self.n_actions):\n",
    "                sj = self.get_next_state(si,a)\n",
    "                j = self.state2idx(sj)\n",
    "                P_a[i, j, a] = 1                \n",
    "        return P_a"
   ]
  },
  {
   "cell_type": "code",
   "execution_count": 3,
   "metadata": {
    "scrolled": true
   },
   "outputs": [],
   "source": [
    "g = GridWorld(5,3,4,(1,1))"
   ]
  },
  {
   "cell_type": "code",
   "execution_count": 4,
   "metadata": {},
   "outputs": [
    {
     "data": {
      "text/plain": [
       "array([[[ 0,  1,  2,  3],\n",
       "        [ 4,  5,  6,  7],\n",
       "        [ 8,  9, 10, 11]],\n",
       "\n",
       "       [[12, 13, 14, 15],\n",
       "        [16, 17, 18, 19],\n",
       "        [20, 21, 22, 23]],\n",
       "\n",
       "       [[24, 25, 26, 27],\n",
       "        [28, 29, 30, 31],\n",
       "        [32, 33, 34, 35]],\n",
       "\n",
       "       [[36, 37, 38, 39],\n",
       "        [40, 41, 42, 43],\n",
       "        [44, 45, 46, 47]],\n",
       "\n",
       "       [[48, 49, 50, 51],\n",
       "        [52, 53, 54, 55],\n",
       "        [56, 57, 58, 59]]])"
      ]
     },
     "execution_count": 4,
     "metadata": {},
     "output_type": "execute_result"
    }
   ],
   "source": [
    "g.get_grid_idx()"
   ]
  },
  {
   "cell_type": "code",
   "execution_count": 5,
   "metadata": {},
   "outputs": [],
   "source": [
    "def value_iteration(P_a, rewards, error=0.01, max_iter=100):\n",
    "    \"\"\"\n",
    "    static value iteration function. Perhaps the most useful function in this repo\n",
    "\n",
    "    inputs:\n",
    "    P_a         NxNxN_ACTIONS transition probabilities matrix - \n",
    "                          P_a[s0, s1, a] is the transition prob of \n",
    "                          landing at state s1 when taking action \n",
    "                          a at state s0\n",
    "    rewards     Nx1 matrix - rewards for all the states\n",
    "    gamma       float - RL discount\n",
    "    error       float - threshold for a stop\n",
    "\n",
    "    returns:\n",
    "    values    Nx1 matrix - estimated values\n",
    "    policy    Nx1 matrix - policy\n",
    "    \"\"\"\n",
    "    N_STATES, _, N_ACTIONS = np.shape(P_a)\n",
    "    n = 0 \n",
    "    values = np.ones([N_STATES])* -FLOAT_MAX\n",
    "    qvalues = np.ones((N_STATES, N_ACTIONS))* -FLOAT_MAX\n",
    "    policy = np.zeros((N_STATES, N_ACTIONS))\n",
    "        \n",
    "    # estimate values\n",
    "    while True:\n",
    "        values_tmp = values.copy()\n",
    "        values[g.state2idx(g.end)] = 0 # goal\n",
    "        \n",
    "        for s in range(N_STATES):\n",
    "            qvalues[s] = [sum([P_a[s, s1, a]*(rewards[s] + values[s1]) for s1 in range(N_STATES)]) for a in range(N_ACTIONS)]\n",
    "            \n",
    "            softmax = max(qvalues[s]) + np.log(1.0 + np.exp(min(qvalues[s]) - max(qvalues[s]))) \n",
    "            values[s] = rewards[s] + softmax\n",
    "            \n",
    "            policy[s,:] = np.exp(qvalues[s]-values[s])/sum(np.exp(qvalues[s]-values[s]))\n",
    "            \n",
    "        if max([abs(values[s] - values_tmp[s]) for s in range(N_STATES)]) < error:\n",
    "            break\n",
    "        n += 1\n",
    "        # max iteration\n",
    "        if n > max_iter:\n",
    "            print(\"    WARNING: max number of iterations\", max_iter)\n",
    "            break    \n",
    "    \n",
    "    return values, policy"
   ]
  },
  {
   "cell_type": "code",
   "execution_count": 6,
   "metadata": {},
   "outputs": [
    {
     "data": {
      "text/plain": [
       "array([[[-1.12589580e+00, -1.92243484e+00, -1.81022541e+00,\n",
       "         -1.04579154e+00],\n",
       "        [-2.63316394e+00, -7.02862612e-01, -9.81680963e-01,\n",
       "         -3.24363688e-01],\n",
       "        [-9.68738154e-01, -1.61891634e+00, -1.39873132e+00,\n",
       "         -8.32239973e-01]],\n",
       "\n",
       "       [[-2.32487325e+00, -9.18048749e-01, -1.36775978e-01,\n",
       "         -8.35731708e-01],\n",
       "        [-1.87140384e+00, -1.99541656e+00, -5.04602628e-01,\n",
       "         -5.31323382e-01],\n",
       "        [-1.15654903e+00, -1.67337113e+00, -1.35916901e+00,\n",
       "         -3.19609598e-01]],\n",
       "\n",
       "       [[-1.01302230e+00, -1.74232833e+00, -6.74015729e-01,\n",
       "         -1.23571213e+00],\n",
       "        [-1.13588841e+00, -1.03985182e+00, -7.14470928e-01,\n",
       "         -2.52812311e-01],\n",
       "        [-1.36610431e+00, -2.70308991e-01, -1.29095044e+00,\n",
       "         -5.82370265e-01]],\n",
       "\n",
       "       [[-5.55909288e-01, -1.30380188e+00, -1.79641239e+00,\n",
       "         -1.00000000e+30],\n",
       "        [-1.86817174e+00, -7.56399123e-02, -1.74911770e-01,\n",
       "         -1.00000000e+30],\n",
       "        [-6.64946905e-02, -8.36464552e-01, -5.10297820e-01,\n",
       "         -1.00000000e+30]],\n",
       "\n",
       "       [[-1.00000000e+30, -1.00000000e+30, -1.00000000e+30,\n",
       "         -1.00000000e+30],\n",
       "        [-1.00000000e+30, -7.25555858e-01, -1.00000000e+30,\n",
       "         -1.00000000e+30],\n",
       "        [-1.00000000e+30, -1.00000000e+30, -1.00000000e+30,\n",
       "         -1.00000000e+30]]])"
      ]
     },
     "execution_count": 6,
     "metadata": {},
     "output_type": "execute_result"
    }
   ],
   "source": [
    "P = g.get_transition_mat()\n",
    "R = -np.random.random((g.n_states, 1))\n",
    "\n",
    "values, policy = value_iteration(P, R, 0.01, 100)\n",
    "\n",
    "values.reshape((g.length_max, g.height, g.width))"
   ]
  },
  {
   "cell_type": "code",
   "execution_count": 7,
   "metadata": {},
   "outputs": [
    {
     "data": {
      "text/plain": [
       "array([[0.0766463 , 0.0766463 , 0.0766463 , 0.31294448, 0.10655465,\n",
       "        0.12062309, 0.0766463 , 0.0766463 , 0.0766463 ],\n",
       "       [0.1153785 , 0.1153785 , 0.1153785 , 0.25201555, 0.17445453,\n",
       "        0.03928529, 0.04447214, 0.02825848, 0.1153785 ],\n",
       "       [0.15439166, 0.15439166, 0.15439166, 0.07674874, 0.10405767,\n",
       "        0.10687565, 0.02406725, 0.07068404, 0.15439166],\n",
       "       [0.09293669, 0.09293669, 0.09293669, 0.09293669, 0.09293669,\n",
       "        0.12600566, 0.12941802, 0.18695618, 0.09293669],\n",
       "       [0.08790374, 0.05585578, 0.22805742, 0.0776514 , 0.10715486,\n",
       "        0.17966557, 0.08790374, 0.08790374, 0.08790374],\n",
       "       [0.04499018, 0.13213341, 0.28861246, 0.19978827, 0.08500345,\n",
       "        0.06208408, 0.10409582, 0.05093025, 0.03236209],\n",
       "       [0.14363027, 0.20748708, 0.10314269, 0.13984318, 0.17281738,\n",
       "        0.06111003, 0.04463302, 0.032344  , 0.09499234],\n",
       "       [0.11209334, 0.08267552, 0.11209334, 0.11209334, 0.11209334,\n",
       "        0.13852429, 0.04898363, 0.11512893, 0.16631429],\n",
       "       [0.1330163 , 0.06507997, 0.0574896 , 0.07933263, 0.1330163 ,\n",
       "        0.1330163 , 0.1330163 , 0.1330163 , 0.1330163 ],\n",
       "       [0.08468194, 0.06136606, 0.2725088 , 0.11594368, 0.08468194,\n",
       "        0.08468194, 0.08468194, 0.14198544, 0.06946824],\n",
       "       [0.07857709, 0.18468406, 0.17981451, 0.22221372, 0.07857709,\n",
       "        0.07857709, 0.07857709, 0.05739046, 0.04158887],\n",
       "       [0.12509512, 0.10122651, 0.12509512, 0.12509512, 0.12509512,\n",
       "        0.12509512, 0.12509512, 0.04423494, 0.10396782],\n",
       "       [0.11990188, 0.11990188, 0.11990188, 0.05782191, 0.11672774,\n",
       "        0.10603907, 0.11990188, 0.11990188, 0.11990188],\n",
       "       [0.06397211, 0.06397211, 0.06397211, 0.18618853, 0.17880656,\n",
       "        0.12914343, 0.11731787, 0.13265519, 0.06397211],\n",
       "       [0.12358508, 0.12358508, 0.12358508, 0.07047327, 0.18831823,\n",
       "        0.1186852 , 0.08572065, 0.04246233, 0.12358508],\n",
       "       [0.08257669, 0.08257669, 0.08257669, 0.08257669, 0.08257669,\n",
       "        0.22066092, 0.13906878, 0.14481018, 0.08257669],\n",
       "       [0.10052711, 0.11366932, 0.05481629, 0.11066017, 0.23889087,\n",
       "        0.07985492, 0.10052711, 0.10052711, 0.10052711],\n",
       "       [0.10085113, 0.04995732, 0.14539899, 0.13963423, 0.0784567 ,\n",
       "        0.21771532, 0.07277649, 0.09161627, 0.10359354],\n",
       "       [0.11676684, 0.12158752, 0.06933417, 0.18527436, 0.13325702,\n",
       "        0.06560813, 0.18206086, 0.08433511, 0.04177599],\n",
       "       [0.14849853, 0.05557176, 0.14849853, 0.14849853, 0.14849853,\n",
       "        0.10680632, 0.05258532, 0.09358934, 0.09745314],\n",
       "       [0.08593872, 0.10818583, 0.11909089, 0.25709093, 0.08593872,\n",
       "        0.08593872, 0.08593872, 0.08593872, 0.08593872],\n",
       "       [0.16077089, 0.07447306, 0.10311227, 0.057936  , 0.16077089,\n",
       "        0.16077089, 0.16077089, 0.05374147, 0.06765362],\n",
       "       [0.06804928, 0.12111151, 0.19216806, 0.13821526, 0.06804928,\n",
       "        0.06804928, 0.06804928, 0.188835  , 0.08747305],\n",
       "       [0.11416895, 0.15873519, 0.11416895, 0.11416895, 0.11416895,\n",
       "        0.11416895, 0.11416895, 0.05621025, 0.10004086],\n",
       "       [0.11963034, 0.11963034, 0.11963034, 0.05662859, 0.19338362,\n",
       "        0.03220572, 0.11963034, 0.11963034, 0.11963034],\n",
       "       [0.0724666 , 0.0724666 , 0.0724666 , 0.04427921, 0.22408286,\n",
       "        0.2474696 , 0.04121309, 0.15308884, 0.0724666 ],\n",
       "       [0.06140203, 0.06140203, 0.06140203, 0.        , 0.        ,\n",
       "        0.31073596, 0.34316639, 0.10048952, 0.06140203],\n",
       "       [0.        , 0.        , 0.        , 0.        , 0.        ,\n",
       "        0.        , 0.83500198, 0.16499802, 0.        ],\n",
       "       [0.04107924, 0.15259164, 0.07223125, 0.24666587, 0.11526226,\n",
       "        0.24893203, 0.04107924, 0.04107924, 0.04107924],\n",
       "       [0.18916595, 0.05539352, 0.03384706, 0.17128911, 0.12248233,\n",
       "        0.08839364, 0.19090385, 0.03150332, 0.11702122],\n",
       "       [0.25930437, 0.05123905, 0.        , 0.        , 0.        ,\n",
       "        0.1854187 , 0.13381387, 0.28636706, 0.08385696],\n",
       "       [0.        , 0.        , 0.        , 0.        , 0.        ,\n",
       "        0.        , 0.37385657, 0.522831  , 0.10331243],\n",
       "       [0.13125176, 0.02165942, 0.13005691, 0.06077311, 0.13125176,\n",
       "        0.13125176, 0.13125176, 0.13125176, 0.13125176],\n",
       "       [0.08347535, 0.1786406 , 0.16175844, 0.11566731, 0.08347535,\n",
       "        0.08347535, 0.08347535, 0.1802818 , 0.02975045],\n",
       "       [0.13046996, 0.18245965, 0.        , 0.        , 0.13046996,\n",
       "        0.13046996, 0.13046996, 0.09415819, 0.20150232],\n",
       "       [0.        , 0.        , 0.        , 0.        , 0.        ,\n",
       "        0.        , 0.        , 0.41693069, 0.58306931],\n",
       "       [0.        , 0.        , 0.        , 0.        , 1.        ,\n",
       "        0.        , 0.        , 0.        , 0.        ],\n",
       "       [0.        , 0.        , 0.        , 0.        , 0.        ,\n",
       "        1.        , 0.        , 0.        , 0.        ],\n",
       "       [0.        , 0.        , 0.        , 0.        , 0.        ,\n",
       "        0.        , 1.        , 0.        , 0.        ],\n",
       "       [0.11111111, 0.11111111, 0.11111111, 0.11111111, 0.11111111,\n",
       "        0.11111111, 0.11111111, 0.11111111, 0.11111111],\n",
       "       [0.        , 0.        , 0.        , 1.        , 0.        ,\n",
       "        0.        , 0.        , 0.        , 0.        ],\n",
       "       [1.        , 0.        , 0.        , 0.        , 0.        ,\n",
       "        0.        , 0.        , 0.        , 0.        ],\n",
       "       [0.        , 0.        , 0.        , 0.        , 0.        ,\n",
       "        0.        , 0.        , 1.        , 0.        ],\n",
       "       [0.11111111, 0.11111111, 0.11111111, 0.11111111, 0.11111111,\n",
       "        0.11111111, 0.11111111, 0.11111111, 0.11111111],\n",
       "       [0.        , 0.        , 1.        , 0.        , 0.        ,\n",
       "        0.        , 0.        , 0.        , 0.        ],\n",
       "       [0.        , 1.        , 0.        , 0.        , 0.        ,\n",
       "        0.        , 0.        , 0.        , 0.        ],\n",
       "       [0.        , 0.        , 0.        , 0.        , 0.        ,\n",
       "        0.        , 0.        , 0.        , 1.        ],\n",
       "       [0.11111111, 0.11111111, 0.11111111, 0.11111111, 0.11111111,\n",
       "        0.11111111, 0.11111111, 0.11111111, 0.11111111],\n",
       "       [0.11111111, 0.11111111, 0.11111111, 0.11111111, 0.11111111,\n",
       "        0.11111111, 0.11111111, 0.11111111, 0.11111111],\n",
       "       [0.11111111, 0.11111111, 0.11111111, 0.11111111, 0.11111111,\n",
       "        0.11111111, 0.11111111, 0.11111111, 0.11111111],\n",
       "       [0.11111111, 0.11111111, 0.11111111, 0.11111111, 0.11111111,\n",
       "        0.11111111, 0.11111111, 0.11111111, 0.11111111],\n",
       "       [0.11111111, 0.11111111, 0.11111111, 0.11111111, 0.11111111,\n",
       "        0.11111111, 0.11111111, 0.11111111, 0.11111111],\n",
       "       [0.11111111, 0.11111111, 0.11111111, 0.11111111, 0.11111111,\n",
       "        0.11111111, 0.11111111, 0.11111111, 0.11111111],\n",
       "       [0.11111111, 0.11111111, 0.11111111, 0.11111111, 0.11111111,\n",
       "        0.11111111, 0.11111111, 0.11111111, 0.11111111],\n",
       "       [0.11111111, 0.11111111, 0.11111111, 0.11111111, 0.11111111,\n",
       "        0.11111111, 0.11111111, 0.11111111, 0.11111111],\n",
       "       [0.11111111, 0.11111111, 0.11111111, 0.11111111, 0.11111111,\n",
       "        0.11111111, 0.11111111, 0.11111111, 0.11111111],\n",
       "       [0.11111111, 0.11111111, 0.11111111, 0.11111111, 0.11111111,\n",
       "        0.11111111, 0.11111111, 0.11111111, 0.11111111],\n",
       "       [0.11111111, 0.11111111, 0.11111111, 0.11111111, 0.11111111,\n",
       "        0.11111111, 0.11111111, 0.11111111, 0.11111111],\n",
       "       [0.11111111, 0.11111111, 0.11111111, 0.11111111, 0.11111111,\n",
       "        0.11111111, 0.11111111, 0.11111111, 0.11111111],\n",
       "       [0.11111111, 0.11111111, 0.11111111, 0.11111111, 0.11111111,\n",
       "        0.11111111, 0.11111111, 0.11111111, 0.11111111]])"
      ]
     },
     "execution_count": 7,
     "metadata": {},
     "output_type": "execute_result"
    }
   ],
   "source": [
    "policy"
   ]
  },
  {
   "cell_type": "code",
   "execution_count": 8,
   "metadata": {},
   "outputs": [],
   "source": [
    "def compute_state_visition_freq(P_a, start_idx, nb_step, policy):\n",
    "    \"\"\"compute the expected states visition frequency p(s| theta, T) \n",
    "    using dynamic programming\n",
    "    inputs:\n",
    "    P_a     NxNxN_ACTIONS matrix - transition dynamics\n",
    "    gamma   float - discount factor\n",
    "    start_idx   idx of start position\n",
    "    nb_step idx - nb of step to iterate\n",
    "    policy  Nx1 vector - policy\n",
    "\n",
    "    returns:\n",
    "    p       Nx1 vector - state visitation frequencies\n",
    "    \"\"\"\n",
    "    N_STATES, _, N_ACTIONS = np.shape(P_a)\n",
    "\n",
    "    # mu[s, t] is the prob of visiting state s at time t\n",
    "    mu = np.zeros([N_STATES, nb_step]) \n",
    "\n",
    "    mu[start_idx, 0] = 1\n",
    "    for s in range(N_STATES):\n",
    "        for t in range(nb_step-1):\n",
    "            mu[s, t+1] = sum([sum([mu[pre_s, t]*P_a[pre_s, s, a1]*policy[pre_s, a1] for a1 in range(N_ACTIONS)]) for pre_s in range(N_STATES)])\n",
    "\n",
    "    p = np.sum(mu, 1)\n",
    "    return p"
   ]
  },
  {
   "cell_type": "code",
   "execution_count": 9,
   "metadata": {},
   "outputs": [
    {
     "data": {
      "text/plain": [
       "array([[[0.        , 0.        , 0.        , 0.        ],\n",
       "        [0.        , 1.        , 0.        , 0.        ],\n",
       "        [0.        , 0.        , 0.        , 0.        ]],\n",
       "\n",
       "       [[0.03236209, 0.13213341, 0.28861246, 0.        ],\n",
       "        [0.05093025, 0.04499018, 0.19978827, 0.        ],\n",
       "        [0.10409582, 0.06208408, 0.08500345, 0.        ]],\n",
       "\n",
       "       [[0.05125973, 0.06132355, 0.19810779, 0.03419162],\n",
       "        [0.05899647, 0.09706015, 0.10418769, 0.10770158],\n",
       "        [0.06435292, 0.14107442, 0.04337211, 0.03837196]],\n",
       "\n",
       "       [[0.06654173, 0.05896092, 0.07676438, 0.        ],\n",
       "        [0.0225209 , 0.198132  , 0.25690939, 0.        ],\n",
       "        [0.10932702, 0.08442104, 0.12642262, 0.        ]],\n",
       "\n",
       "       [[0.        , 0.        , 0.        , 0.        ],\n",
       "        [0.        , 1.        , 0.        , 0.        ],\n",
       "        [0.        , 0.        , 0.        , 0.        ]]])"
      ]
     },
     "execution_count": 9,
     "metadata": {},
     "output_type": "execute_result"
    }
   ],
   "source": [
    "svf = compute_state_visition_freq(P, g.state2idx((0,1,1)), g.length_max, policy)\n",
    "svf.reshape((g.length_max, g.height, g.width))"
   ]
  },
  {
   "cell_type": "code",
   "execution_count": 10,
   "metadata": {},
   "outputs": [
    {
     "data": {
      "text/plain": [
       "array([[[ 0,  1,  2,  3],\n",
       "        [ 4,  5,  6,  7],\n",
       "        [ 8,  9, 10, 11]],\n",
       "\n",
       "       [[12, 13, 14, 15],\n",
       "        [16, 17, 18, 19],\n",
       "        [20, 21, 22, 23]],\n",
       "\n",
       "       [[24, 25, 26, 27],\n",
       "        [28, 29, 30, 31],\n",
       "        [32, 33, 34, 35]],\n",
       "\n",
       "       [[36, 37, 38, 39],\n",
       "        [40, 41, 42, 43],\n",
       "        [44, 45, 46, 47]],\n",
       "\n",
       "       [[48, 49, 50, 51],\n",
       "        [52, 53, 54, 55],\n",
       "        [56, 57, 58, 59]]])"
      ]
     },
     "execution_count": 10,
     "metadata": {},
     "output_type": "execute_result"
    }
   ],
   "source": [
    "g.get_grid_idx()"
   ]
  },
  {
   "cell_type": "code",
   "execution_count": 11,
   "metadata": {},
   "outputs": [
    {
     "data": {
      "text/plain": [
       "array([[ 0.,  0.,  0.,  0.],\n",
       "       [ 0., 12.,  4.,  0.],\n",
       "       [ 0.,  7.,  7.,  0.]])"
      ]
     },
     "execution_count": 11,
     "metadata": {},
     "output_type": "execute_result"
    }
   ],
   "source": [
    "## Create expert trajectories\n",
    "\n",
    "traj_1 = [5, 18, 33, 46, 53]\n",
    "traj_2 = [5, 22, 30, 45, 53]\n",
    "traj_3 = [5, 21, 34, 45, 53]\n",
    "traj_4 = [5, 21, 33, 45, 53]\n",
    "traj_5 = [5, 22, 34, 42, 53]\n",
    "traj_6 = [5, 22, 34, 42, 53]\n",
    "\n",
    "trajs = [traj_1, traj_2, traj_3, traj_4, traj_5, traj_6]\n",
    "\n",
    "\n",
    "freq = np.zeros((3,4))\n",
    "for traj in trajs:\n",
    "    for idx in traj:\n",
    "        state = g.idx2state(idx)\n",
    "        freq[state[1], state[2]] += 1\n",
    "        \n",
    "freq"
   ]
  },
  {
   "cell_type": "code",
   "execution_count": 271,
   "metadata": {},
   "outputs": [],
   "source": [
    "## feat_map\n",
    "\n",
    "map_mask = [[-1, -1, -1, 0],\n",
    "            [-1, 0, 0, 0],\n",
    "            [-1, 0, 0, 0]]\n",
    "\n",
    "map_dist = [[-0.5, -0.5, -0.5, -1],\n",
    "            [-0.5, 0, -0.5, -1],\n",
    "            [-0.5, -0.5, -0.5, -1]]\n",
    "\n",
    "map_gradv = [[0, 0, 0, 0],\n",
    "            [-0.5, -0.5, -0.5, -0.5],\n",
    "            [-1, -1, -1, -1]]\n",
    "\n",
    "map_gradh = [[0, -0.3, -0.6, -0.9],\n",
    "            [0, -0.3, -0.6, -0.9],\n",
    "            [0, -0.3, -0.6, -0.9]]\n",
    "\n",
    "map_const = [[0, 0, 0, 0],\n",
    "            [0, 0, 0, 0],\n",
    "            [0, 0, 0, 0]]\n",
    "\n",
    "\n",
    "\n",
    "feat_map = np.array([map_mask, map_dist, map_gradv, map_gradh, map_const]).reshape(5,12).T\n",
    "for t in range(g.length_max-1):\n",
    "    feature =  np.array([map_mask, map_dist, map_gradv, map_gradh, map_const]).reshape(5,12).T\n",
    "    feature[:,4] -= 0.1*(t+1)\n",
    "    \n",
    "    feat_map = np.vstack([feat_map, feature])"
   ]
  },
  {
   "cell_type": "code",
   "execution_count": 274,
   "metadata": {},
   "outputs": [
    {
     "data": {
      "text/plain": [
       "array([[-1. , -0.5,  0. ,  0. ,  0. ],\n",
       "       [-1. , -0.5,  0. , -0.3,  0. ],\n",
       "       [-1. , -0.5,  0. , -0.6,  0. ],\n",
       "       [ 0. , -1. ,  0. , -0.9,  0. ],\n",
       "       [-1. , -0.5, -0.5,  0. ,  0. ],\n",
       "       [ 0. ,  0. , -0.5, -0.3,  0. ],\n",
       "       [ 0. , -0.5, -0.5, -0.6,  0. ],\n",
       "       [ 0. , -1. , -0.5, -0.9,  0. ],\n",
       "       [-1. , -0.5, -1. ,  0. ,  0. ],\n",
       "       [ 0. , -0.5, -1. , -0.3,  0. ],\n",
       "       [ 0. , -0.5, -1. , -0.6,  0. ],\n",
       "       [ 0. , -1. , -1. , -0.9,  0. ],\n",
       "       [-1. , -0.5,  0. ,  0. , -0.1],\n",
       "       [-1. , -0.5,  0. , -0.3, -0.1],\n",
       "       [-1. , -0.5,  0. , -0.6, -0.1],\n",
       "       [ 0. , -1. ,  0. , -0.9, -0.1],\n",
       "       [-1. , -0.5, -0.5,  0. , -0.1],\n",
       "       [ 0. ,  0. , -0.5, -0.3, -0.1],\n",
       "       [ 0. , -0.5, -0.5, -0.6, -0.1],\n",
       "       [ 0. , -1. , -0.5, -0.9, -0.1],\n",
       "       [-1. , -0.5, -1. ,  0. , -0.1],\n",
       "       [ 0. , -0.5, -1. , -0.3, -0.1],\n",
       "       [ 0. , -0.5, -1. , -0.6, -0.1],\n",
       "       [ 0. , -1. , -1. , -0.9, -0.1],\n",
       "       [-1. , -0.5,  0. ,  0. , -0.2],\n",
       "       [-1. , -0.5,  0. , -0.3, -0.2],\n",
       "       [-1. , -0.5,  0. , -0.6, -0.2],\n",
       "       [ 0. , -1. ,  0. , -0.9, -0.2],\n",
       "       [-1. , -0.5, -0.5,  0. , -0.2],\n",
       "       [ 0. ,  0. , -0.5, -0.3, -0.2],\n",
       "       [ 0. , -0.5, -0.5, -0.6, -0.2],\n",
       "       [ 0. , -1. , -0.5, -0.9, -0.2],\n",
       "       [-1. , -0.5, -1. ,  0. , -0.2],\n",
       "       [ 0. , -0.5, -1. , -0.3, -0.2],\n",
       "       [ 0. , -0.5, -1. , -0.6, -0.2],\n",
       "       [ 0. , -1. , -1. , -0.9, -0.2],\n",
       "       [-1. , -0.5,  0. ,  0. , -0.3],\n",
       "       [-1. , -0.5,  0. , -0.3, -0.3],\n",
       "       [-1. , -0.5,  0. , -0.6, -0.3],\n",
       "       [ 0. , -1. ,  0. , -0.9, -0.3],\n",
       "       [-1. , -0.5, -0.5,  0. , -0.3],\n",
       "       [ 0. ,  0. , -0.5, -0.3, -0.3],\n",
       "       [ 0. , -0.5, -0.5, -0.6, -0.3],\n",
       "       [ 0. , -1. , -0.5, -0.9, -0.3],\n",
       "       [-1. , -0.5, -1. ,  0. , -0.3],\n",
       "       [ 0. , -0.5, -1. , -0.3, -0.3],\n",
       "       [ 0. , -0.5, -1. , -0.6, -0.3],\n",
       "       [ 0. , -1. , -1. , -0.9, -0.3],\n",
       "       [-1. , -0.5,  0. ,  0. , -0.4],\n",
       "       [-1. , -0.5,  0. , -0.3, -0.4],\n",
       "       [-1. , -0.5,  0. , -0.6, -0.4],\n",
       "       [ 0. , -1. ,  0. , -0.9, -0.4],\n",
       "       [-1. , -0.5, -0.5,  0. , -0.4],\n",
       "       [ 0. ,  0. , -0.5, -0.3, -0.4],\n",
       "       [ 0. , -0.5, -0.5, -0.6, -0.4],\n",
       "       [ 0. , -1. , -0.5, -0.9, -0.4],\n",
       "       [-1. , -0.5, -1. ,  0. , -0.4],\n",
       "       [ 0. , -0.5, -1. , -0.3, -0.4],\n",
       "       [ 0. , -0.5, -1. , -0.6, -0.4],\n",
       "       [ 0. , -1. , -1. , -0.9, -0.4]])"
      ]
     },
     "execution_count": 274,
     "metadata": {},
     "output_type": "execute_result"
    }
   ],
   "source": [
    "feat_map"
   ]
  },
  {
   "cell_type": "code",
   "execution_count": 14,
   "metadata": {},
   "outputs": [],
   "source": [
    "def maxent_irl(feat_map, P_a, trajs, lr, error, max_iter):\n",
    "    \"\"\"\n",
    "    Maximum Entropy Inverse Reinforcement Learning (Maxent IRL)\n",
    "    inputs:\n",
    "    feat_map    NxD matrix - the features for each state\n",
    "    P_a         NxNxN_ACTIONS matrix - P_a[s0, s1, a] is the transition prob of \n",
    "                                       landing at state s1 when taking action \n",
    "                                       a at state s0\n",
    "    gamma       float - RL discount factor\n",
    "    trajs       a list of demonstrations\n",
    "    lr          float - learning rate\n",
    "    n_iters     int - number of optimization steps\n",
    "    returns\n",
    "    rewards     Nx1 vector - recoverred state rewards\n",
    "    \"\"\"\n",
    "    N_STATES, _, N_ACTIONS = np.shape(P_a)\n",
    "\n",
    "    # init parameters\n",
    "    theta = np.random.uniform(size=(feat_map.shape[1]))\n",
    "    \n",
    "    # calc feature expectations\n",
    "    feat_exp = np.zeros([feat_map.shape[1]])\n",
    "    for episode in trajs:\n",
    "        for step in episode:\n",
    "            feat_exp += feat_map[step,:]\n",
    "    feat_exp = feat_exp/len(trajs)\n",
    "\n",
    "    n = 0\n",
    "    error_history = []\n",
    "    # training\n",
    "    while True:\n",
    "        n += 1\n",
    "        if n % (max_iter/20) == 0:\n",
    "            print('iteration: {}/{}'.format(n, max_iter))\n",
    "\n",
    "        # compute reward function\n",
    "        rewards = np.dot(feat_map, theta)\n",
    "\n",
    "        # compute policy\n",
    "        _, policy = value_iteration(P_a, rewards, error=0.01, max_iter=100)\n",
    "\n",
    "        # compute state visition frequences\n",
    "        svf = compute_state_visition_freq(P_a, g.state2idx((0,1,1)), g.length_max, policy)\n",
    "        \n",
    "        # compute gradients\n",
    "        grad = feat_exp - feat_map.T.dot(svf)\n",
    "                \n",
    "        # update params\n",
    "        theta += lr * grad\n",
    "       \n",
    "        error_history.append(sum(grad**2))\n",
    "        \n",
    "        plt.plot(error_history)\n",
    "        IPython.display.clear_output(wait=True)\n",
    "        IPython.display.display(plt.show())\n",
    "        \n",
    "        if sum(grad**2) < error:\n",
    "            break\n",
    "        # max iteration\n",
    "        if n > max_iter:\n",
    "            print(\"    WARNING: max number of iterations\", max_iter)\n",
    "            break \n",
    "            \n",
    "    rewards = np.dot(feat_map, theta)\n",
    "    return rewards, policy, error_history"
   ]
  },
  {
   "cell_type": "code",
   "execution_count": 15,
   "metadata": {
    "scrolled": true
   },
   "outputs": [
    {
     "name": "stdout",
     "output_type": "stream",
     "text": [
      "iteration: 5/100\n",
      "iteration: 10/100\n",
      "iteration: 15/100\n",
      "iteration: 20/100\n",
      "iteration: 25/100\n",
      "iteration: 30/100\n",
      "iteration: 35/100\n"
     ]
    }
   ],
   "source": [
    "rewards, policy, error_history = maxent_irl(feat_map, P, trajs, 0.1, 0.01, 100)"
   ]
  },
  {
   "cell_type": "code",
   "execution_count": 16,
   "metadata": {},
   "outputs": [
    {
     "data": {
      "text/plain": [
       "[<matplotlib.lines.Line2D at 0x7f85c09b2790>]"
      ]
     },
     "execution_count": 16,
     "metadata": {},
     "output_type": "execute_result"
    },
    {
     "data": {
      "image/png": "[encoded data removed]",
      "text/plain": [
       "<Figure size 432x288 with 1 Axes>"
      ]
     },
     "metadata": {
      "needs_background": "light"
     },
     "output_type": "display_data"
    }
   ],
   "source": [
    "plt.plot(error_history)"
   ]
  },
  {
   "cell_type": "code",
   "execution_count": 17,
   "metadata": {},
   "outputs": [
    {
     "data": {
      "image/png": "[encoded data removed]",
      "text/plain": [
       "<Figure size 432x288 with 1 Axes>"
      ]
     },
     "metadata": {
      "needs_background": "light"
     },
     "output_type": "display_data"
    }
   ],
   "source": [
    "rewards_grid = rewards.reshape((g.length_max, g.height, g.width))\n",
    "rewards_grid = rewards_grid[0,:,:]\n",
    "\n",
    "# Map\n",
    "\n",
    "plt.imshow(rewards_grid);\n",
    "plt.title('Rewards')\n",
    "plt.show()"
   ]
  },
  {
   "cell_type": "code",
   "execution_count": 18,
   "metadata": {},
   "outputs": [
    {
     "data": {
      "text/plain": [
       "array([[[-1.35855875, -1.35637205, -1.35418534,  0.15856006],\n",
       "        [-1.02567137,  0.33507408,  0.41326076,  0.49144743],\n",
       "        [-0.692784  ,  0.74396143,  0.74614813,  0.82433481]],\n",
       "\n",
       "       [[-1.36308677, -1.36090006, -1.35871336,  0.15403204],\n",
       "        [-1.03019939,  0.33054606,  0.40873274,  0.48691941],\n",
       "        [-0.69731202,  0.73943341,  0.74162011,  0.81980679]],\n",
       "\n",
       "       [[-1.36761478, -1.36542808, -1.36324138,  0.14950402],\n",
       "        [-1.03472741,  0.32601805,  0.40420472,  0.4823914 ],\n",
       "        [-0.70184003,  0.73490539,  0.7370921 ,  0.81527877]],\n",
       "\n",
       "       [[-1.3721428 , -1.3699561 , -1.36776939,  0.144976  ],\n",
       "        [-1.03925543,  0.32149003,  0.3996767 ,  0.47786338],\n",
       "        [-0.70636805,  0.73037738,  0.73256408,  0.81075076]],\n",
       "\n",
       "       [[-1.37667082, -1.37448411, -1.37229741,  0.14044799],\n",
       "        [-1.04378344,  0.31696201,  0.39514869,  0.47333536],\n",
       "        [-0.71089607,  0.72584936,  0.72803606,  0.80622274]]])"
      ]
     },
     "execution_count": 18,
     "metadata": {},
     "output_type": "execute_result"
    }
   ],
   "source": [
    "rewards.reshape((g.length_max, g.height, g.width))"
   ]
  },
  {
   "cell_type": "code",
   "execution_count": 19,
   "metadata": {},
   "outputs": [],
   "source": [
    "def generate_demonstrations(g, policy, n_trajs=10, len_traj=5):\n",
    "    \"\"\"gatheres expert demonstrations\n",
    "    inputs:\n",
    "    policy      Nx1 matrix\n",
    "    n_trajs     int - number of trajectories to generate\n",
    "    rand_start  bool - randomly picking start position or not\n",
    "    start_pos   2x1 list - set start position, default [0,0]\n",
    "    returns:\n",
    "    trajs       a list of trajectories - each element in the list is a list of Steps representing an episode\n",
    "    \"\"\"\n",
    "\n",
    "    trajs = []\n",
    "    for i in range(n_trajs):\n",
    "        \n",
    "        episode = []\n",
    "        state = (0,1,1)\n",
    "        idx = g.state2idx(state)\n",
    "        episode.append(idx)\n",
    "        \n",
    "        # while not is_done:\n",
    "        for _ in range(len_traj-1):\n",
    "\n",
    "            act = np.random.choice(g.n_actions, p= policy[idx,:])\n",
    "            next_state = g.get_next_state(state, act)\n",
    "            next_idx = g.state2idx(next_state)\n",
    "            episode.append(next_idx)\n",
    "            state = next_state\n",
    "            idx = next_idx\n",
    "            \n",
    "        trajs.append(episode)\n",
    "    return trajs"
   ]
  },
  {
   "cell_type": "code",
   "execution_count": 20,
   "metadata": {
    "scrolled": true
   },
   "outputs": [
    {
     "data": {
      "text/plain": [
       "[[5, 17, 29, 42, 53],\n",
       " [5, 21, 34, 46, 53],\n",
       " [5, 22, 34, 46, 53],\n",
       " [5, 22, 34, 46, 53],\n",
       " [5, 18, 34, 46, 53],\n",
       " [5, 22, 35, 46, 53],\n",
       " [5, 17, 34, 46, 53],\n",
       " [5, 18, 29, 46, 53],\n",
       " [5, 22, 34, 46, 53],\n",
       " [5, 21, 33, 41, 53],\n",
       " [5, 22, 34, 46, 53],\n",
       " [5, 22, 33, 45, 53],\n",
       " [5, 22, 35, 42, 53],\n",
       " [5, 21, 33, 46, 53],\n",
       " [5, 18, 30, 45, 53],\n",
       " [5, 18, 34, 46, 53],\n",
       " [5, 21, 34, 46, 53],\n",
       " [5, 22, 34, 46, 53],\n",
       " [5, 21, 29, 46, 53],\n",
       " [5, 22, 34, 46, 53],\n",
       " [5, 22, 34, 46, 53],\n",
       " [5, 22, 33, 45, 53],\n",
       " [5, 22, 31, 46, 53],\n",
       " [5, 17, 34, 41, 53],\n",
       " [5, 22, 34, 46, 53],\n",
       " [5, 21, 33, 46, 53],\n",
       " [5, 21, 30, 45, 53],\n",
       " [5, 21, 30, 46, 53],\n",
       " [5, 22, 31, 46, 53],\n",
       " [5, 21, 33, 45, 53],\n",
       " [5, 21, 33, 45, 53],\n",
       " [5, 22, 34, 45, 53],\n",
       " [5, 18, 35, 46, 53],\n",
       " [5, 18, 27, 42, 53],\n",
       " [5, 21, 33, 42, 53],\n",
       " [5, 22, 34, 46, 53],\n",
       " [5, 18, 31, 42, 53],\n",
       " [5, 17, 33, 45, 53],\n",
       " [5, 22, 34, 46, 53],\n",
       " [5, 16, 33, 45, 53],\n",
       " [5, 18, 35, 46, 53],\n",
       " [5, 22, 34, 46, 53],\n",
       " [5, 22, 34, 46, 53],\n",
       " [5, 18, 35, 46, 53],\n",
       " [5, 22, 30, 46, 53],\n",
       " [5, 17, 30, 46, 53],\n",
       " [5, 18, 35, 46, 53],\n",
       " [5, 21, 33, 45, 53],\n",
       " [5, 18, 35, 46, 53],\n",
       " [5, 21, 33, 45, 53]]"
      ]
     },
     "execution_count": 20,
     "metadata": {},
     "output_type": "execute_result"
    }
   ],
   "source": [
    "trajs = generate_demonstrations(g, policy, 50, 5)\n",
    "trajs"
   ]
  },
  {
   "cell_type": "code",
   "execution_count": 21,
   "metadata": {},
   "outputs": [
    {
     "data": {
      "text/plain": [
       "array([[  0.,   0.,   0.,   1.],\n",
       "       [  1., 110.,  21.,   3.],\n",
       "       [  0.,  36.,  71.,   7.]])"
      ]
     },
     "execution_count": 21,
     "metadata": {},
     "output_type": "execute_result"
    }
   ],
   "source": [
    "freq = np.zeros((3,4))\n",
    "for traj in trajs:\n",
    "    for idx in traj:\n",
    "        state = g.idx2state(idx)\n",
    "        freq[state[1], state[2]] += 1\n",
    "        \n",
    "freq"
   ]
  },
  {
   "cell_type": "markdown",
   "metadata": {},
   "source": [
    "## Deep\n",
    "\n",
    "Deep MaxEnt Inverse reinforcement Learning - the reward function is a CNN"
   ]
  },
  {
   "cell_type": "code",
   "execution_count": 441,
   "metadata": {},
   "outputs": [],
   "source": [
    "import torch\n",
    "from torch import nn\n",
    "from torch import optim\n",
    "from torch.utils.data import DataLoader"
   ]
  },
  {
   "cell_type": "code",
   "execution_count": 442,
   "metadata": {},
   "outputs": [],
   "source": [
    "feat_map = torch.tensor([[map_mask, map_dist, map_gradv, map_gradh, map_const]])"
   ]
  },
  {
   "cell_type": "code",
   "execution_count": 443,
   "metadata": {},
   "outputs": [
    {
     "data": {
      "text/plain": [
       "torch.Size([1, 5, 3, 4])"
      ]
     },
     "execution_count": 443,
     "metadata": {},
     "output_type": "execute_result"
    }
   ],
   "source": [
    "feat_map.shape"
   ]
  },
  {
   "cell_type": "markdown",
   "metadata": {},
   "source": [
    "The input tensor must be of size $(N,C_{in},H,W)$ \n",
    "\n",
    "with \n",
    "- $N$ batch size\n",
    "- $C_{in}$ number of channels\n",
    "- $H$ height of the image\n",
    "- $W$ width of the image"
   ]
  },
  {
   "cell_type": "code",
   "execution_count": 391,
   "metadata": {},
   "outputs": [
    {
     "data": {
      "text/plain": [
       "5"
      ]
     },
     "execution_count": 391,
     "metadata": {},
     "output_type": "execute_result"
    }
   ],
   "source": [
    "g.length_max"
   ]
  },
  {
   "cell_type": "code",
   "execution_count": 456,
   "metadata": {},
   "outputs": [],
   "source": [
    "layer1 = nn.Sequential(\n",
    "            nn.Conv2d(5, 5, kernel_size = 3, stride=1, padding=1))\n",
    "\n",
    "layer2 = nn.Sequential(\n",
    "            nn.Conv2d(5, 5, kernel_size = 3, stride=1, padding=1),\n",
    "            nn.ReLU())"
   ]
  },
  {
   "cell_type": "code",
   "execution_count": 457,
   "metadata": {
    "scrolled": true
   },
   "outputs": [
    {
     "data": {
      "text/plain": [
       "torch.Size([1, 5, 3, 4])"
      ]
     },
     "execution_count": 457,
     "metadata": {},
     "output_type": "execute_result"
    }
   ],
   "source": [
    "layer2(layer1(x)).shape"
   ]
  },
  {
   "cell_type": "code",
   "execution_count": 458,
   "metadata": {},
   "outputs": [],
   "source": [
    "class ConvNet(nn.Module):\n",
    "    def __init__(self):\n",
    "        super(ConvNet, self).__init__()\n",
    "        \n",
    "        self.layer1 = nn.Sequential(\n",
    "            nn.Conv2d(5, 5, kernel_size = 3, stride=1, padding=1))\n",
    "        self.layer2 = nn.Sequential(\n",
    "            nn.Conv2d(5, 5, kernel_size = 3, stride=1, padding=1),\n",
    "            nn.ReLU())\n",
    "        \n",
    "    def forward(self, x):\n",
    "        out = self.layer1(x)\n",
    "        out = self.layer2(out)\n",
    "        return out\n",
    "    \n",
    "    def get_reward_mat(self, x):\n",
    "        out = self.forward(x)\n",
    "        rewards = out.detach().numpy()\n",
    "        return -rewards[0].reshape((60,1))\n",
    "        "
   ]
  },
  {
   "cell_type": "code",
   "execution_count": 459,
   "metadata": {
    "scrolled": true
   },
   "outputs": [
    {
     "data": {
      "text/plain": [
       "array([[-2.73765802e-01],\n",
       "       [-3.73256505e-01],\n",
       "       [-2.60760218e-01],\n",
       "       [-1.43410683e-01],\n",
       "       [-4.21943843e-01],\n",
       "       [-3.82943034e-01],\n",
       "       [-1.02125406e-01],\n",
       "       [-1.30047098e-01],\n",
       "       [-0.00000000e+00],\n",
       "       [-6.01871386e-02],\n",
       "       [-0.00000000e+00],\n",
       "       [-4.66974303e-02],\n",
       "       [-0.00000000e+00],\n",
       "       [-0.00000000e+00],\n",
       "       [-0.00000000e+00],\n",
       "       [-0.00000000e+00],\n",
       "       [-1.40328854e-01],\n",
       "       [-1.05537176e-02],\n",
       "       [-0.00000000e+00],\n",
       "       [-0.00000000e+00],\n",
       "       [-0.00000000e+00],\n",
       "       [-0.00000000e+00],\n",
       "       [-0.00000000e+00],\n",
       "       [-0.00000000e+00],\n",
       "       [-0.00000000e+00],\n",
       "       [-1.78463280e-01],\n",
       "       [-8.74055475e-02],\n",
       "       [-9.39313546e-02],\n",
       "       [-0.00000000e+00],\n",
       "       [-0.00000000e+00],\n",
       "       [-0.00000000e+00],\n",
       "       [-6.07213490e-02],\n",
       "       [-1.25839174e-01],\n",
       "       [-3.45807080e-03],\n",
       "       [-0.00000000e+00],\n",
       "       [-3.72879095e-02],\n",
       "       [-0.00000000e+00],\n",
       "       [-6.28970191e-02],\n",
       "       [-0.00000000e+00],\n",
       "       [-0.00000000e+00],\n",
       "       [-0.00000000e+00],\n",
       "       [-2.24352390e-01],\n",
       "       [-0.00000000e+00],\n",
       "       [-6.51343465e-02],\n",
       "       [-0.00000000e+00],\n",
       "       [-2.52491347e-02],\n",
       "       [-0.00000000e+00],\n",
       "       [-2.09703241e-04],\n",
       "       [-0.00000000e+00],\n",
       "       [-0.00000000e+00],\n",
       "       [-1.70105666e-01],\n",
       "       [-0.00000000e+00],\n",
       "       [-0.00000000e+00],\n",
       "       [-0.00000000e+00],\n",
       "       [-0.00000000e+00],\n",
       "       [-0.00000000e+00],\n",
       "       [-0.00000000e+00],\n",
       "       [-0.00000000e+00],\n",
       "       [-0.00000000e+00],\n",
       "       [-0.00000000e+00]], dtype=float32)"
      ]
     },
     "execution_count": 459,
     "metadata": {},
     "output_type": "execute_result"
    }
   ],
   "source": [
    "model = ConvNet()\n",
    "model.get_reward_mat(feat_map)"
   ]
  },
  {
   "cell_type": "code",
   "execution_count": 460,
   "metadata": {},
   "outputs": [],
   "source": [
    "def demo_svf(trajs, n_states):\n",
    "    \"\"\"\n",
    "    compute state visitation frequences from demonstrations\n",
    "\n",
    "    input:\n",
    "    trajs   list of list of Steps - collected from expert\n",
    "    returns:\n",
    "    p       Nx1 vector - state visitation frequences   \n",
    "    \"\"\"\n",
    "\n",
    "    p = np.zeros(n_states)\n",
    "    for traj in trajs:\n",
    "        for step in traj:\n",
    "            p[step] += 1\n",
    "    p = p/len(trajs)\n",
    "    return p"
   ]
  },
  {
   "cell_type": "code",
   "execution_count": 461,
   "metadata": {
    "scrolled": true
   },
   "outputs": [],
   "source": [
    "model = ConvNet()\n",
    "mu_D = demo_svf(trajs, P.shape[0])\n",
    "\n",
    "# Run the forward pass\n",
    "rewards = model.get_reward_mat(feat_map)\n",
    "\n",
    "# compute policy \n",
    "_, policy = value_iteration(P, rewards, error=0.01, max_iter=100)\n",
    "\n",
    "# compute expected svf\n",
    "mu_exp = compute_state_visition_freq(P, g.state2idx((0,1,1)), g.length_max, policy)\n",
    "    "
   ]
  },
  {
   "cell_type": "code",
   "execution_count": 462,
   "metadata": {},
   "outputs": [],
   "source": [
    "# compute gradients on rewards:\n",
    "grad_r = mu_D - mu_exp"
   ]
  },
  {
   "cell_type": "code",
   "execution_count": 463,
   "metadata": {},
   "outputs": [
    {
     "data": {
      "text/plain": [
       "tensor([ 0.0000e+00,  0.0000e+00,  0.0000e+00,  0.0000e+00,  0.0000e+00,\n",
       "         0.0000e+00,  0.0000e+00,  0.0000e+00,  0.0000e+00,  0.0000e+00,\n",
       "         0.0000e+00,  0.0000e+00,  2.8655e-02,  1.6064e-02, -8.2500e-02,\n",
       "         0.0000e+00,  2.9507e-02,  4.9306e-02, -4.2688e-02,  0.0000e+00,\n",
       "        -1.1153e-01,  5.5877e-02,  5.7312e-02,  0.0000e+00, -1.2794e-01,\n",
       "        -1.2783e-01, -2.0774e-02, -1.8230e-02, -1.1955e-01,  3.0555e-01,\n",
       "         3.1480e-02, -7.0184e-03, -1.2823e-01,  2.1183e-01, -7.7016e-04,\n",
       "         1.4822e-03, -6.0445e-02, -2.1109e-02, -1.0999e-02,  0.0000e+00,\n",
       "        -7.4506e-02,  2.5242e-02,  4.2648e-02,  0.0000e+00, -9.1032e-02,\n",
       "         1.4115e-01,  4.9052e-02,  0.0000e+00,  0.0000e+00,  0.0000e+00,\n",
       "         0.0000e+00,  0.0000e+00,  0.0000e+00, -2.2204e-16,  0.0000e+00,\n",
       "         0.0000e+00,  0.0000e+00,  0.0000e+00,  0.0000e+00,  0.0000e+00],\n",
       "       dtype=torch.float64)"
      ]
     },
     "execution_count": 463,
     "metadata": {},
     "output_type": "execute_result"
    }
   ],
   "source": [
    "torch.tensor(grad_r)"
   ]
  },
  {
   "cell_type": "code",
   "execution_count": 464,
   "metadata": {},
   "outputs": [],
   "source": [
    "opt = torch.optim.Adam(model.parameters(), lr=0.05)"
   ]
  },
  {
   "cell_type": "code",
   "execution_count": 465,
   "metadata": {},
   "outputs": [
    {
     "name": "stdout",
     "output_type": "stream",
     "text": [
      "[[-1.89303905e-01]\n",
      " [-5.14828682e-01]\n",
      " [-3.11649352e-01]\n",
      " [-1.57838061e-01]\n",
      " [-2.55378038e-01]\n",
      " [-6.26967669e-01]\n",
      " [-4.08533275e-01]\n",
      " [-1.41879320e-01]\n",
      " [-6.50388300e-02]\n",
      " [-1.74619257e-01]\n",
      " [-5.99824823e-02]\n",
      " [-1.96984205e-02]\n",
      " [-0.00000000e+00]\n",
      " [-0.00000000e+00]\n",
      " [-0.00000000e+00]\n",
      " [-0.00000000e+00]\n",
      " [-0.00000000e+00]\n",
      " [-0.00000000e+00]\n",
      " [-0.00000000e+00]\n",
      " [-0.00000000e+00]\n",
      " [-0.00000000e+00]\n",
      " [-0.00000000e+00]\n",
      " [-0.00000000e+00]\n",
      " [-0.00000000e+00]\n",
      " [-8.16344917e-02]\n",
      " [-0.00000000e+00]\n",
      " [-0.00000000e+00]\n",
      " [-4.19364456e-04]\n",
      " [-8.05720627e-01]\n",
      " [-2.34009549e-01]\n",
      " [-4.60737914e-01]\n",
      " [-2.31414214e-01]\n",
      " [-5.54287434e-01]\n",
      " [-2.03869998e-01]\n",
      " [-2.68962681e-01]\n",
      " [-1.32846013e-01]\n",
      " [-3.42594743e-01]\n",
      " [-2.40729041e-02]\n",
      " [-0.00000000e+00]\n",
      " [-0.00000000e+00]\n",
      " [-5.82783163e-01]\n",
      " [-2.34720826e-01]\n",
      " [-1.85661241e-01]\n",
      " [-1.09472334e-01]\n",
      " [-1.41268283e-01]\n",
      " [-0.00000000e+00]\n",
      " [-8.38323776e-03]\n",
      " [-0.00000000e+00]\n",
      " [-0.00000000e+00]\n",
      " [-1.70762893e-02]\n",
      " [-0.00000000e+00]\n",
      " [-0.00000000e+00]\n",
      " [-1.36651024e-01]\n",
      " [-1.80352718e-01]\n",
      " [-1.47113234e-01]\n",
      " [-1.66999206e-01]\n",
      " [-0.00000000e+00]\n",
      " [-0.00000000e+00]\n",
      " [-2.47200783e-02]\n",
      " [-1.70025542e-01]]\n"
     ]
    }
   ],
   "source": [
    "# apply gradients to the neural network\n",
    "opt.zero_grad()\n",
    "torch.autograd.backward([model(feat_map)], [torch.tensor(grad_r.reshape((1,5,3,4)))]) \n",
    "opt.step()\n",
    "rewards = model.get_reward_mat(feat_map)\n",
    "print(rewards)"
   ]
  },
  {
   "cell_type": "code",
   "execution_count": 466,
   "metadata": {},
   "outputs": [],
   "source": [
    "def deep_maxent_irl(feat_map, P_a, trajs, lr, n_iters):\n",
    "    \"\"\"\n",
    "    Maximum Entropy Inverse Reinforcement Learning (Maxent IRL)\n",
    "    inputs:\n",
    "    feat_map    NxD matrix - the features for each state\n",
    "    P_a         NxNxN_ACTIONS matrix - P_a[s0, s1, a] is the transition prob of \n",
    "                                   landing at state s1 when taking action \n",
    "                                   a at state s0\n",
    "    gamma       float - RL discount factor\n",
    "    trajs       a list of demonstrations\n",
    "    lr          float - learning rate\n",
    "    n_iters     int - number of optimization steps\n",
    "    returns\n",
    "    rewards     Nx1 vector - recoverred state rewards\n",
    "    \"\"\"\n",
    "\n",
    "    # tf.set_random_seed(1)\n",
    "\n",
    "    N_STATES, _, N_ACTIONS = np.shape(P_a)\n",
    "\n",
    "    # init nn model\n",
    "    model = ConvNet()\n",
    "    mu_D = demo_svf(trajs, P.shape[0])\n",
    "\n",
    "    opt = torch.optim.Adam(model.parameters(), lr=0.05)\n",
    "    \n",
    "\n",
    "    error_history = []\n",
    "    \n",
    "    # training \n",
    "    for iteration in range(n_iters):\n",
    "        if iteration % (n_iters/10) == 0:\n",
    "            print('iteration: {}'.format(iteration))\n",
    "\n",
    "        # compute the reward matrix\n",
    "        rewards = model.get_reward_mat(feat_map)\n",
    "\n",
    "        # compute policy \n",
    "        _, policy = value_iteration(P_a, rewards, error=0.01, max_iter=100)\n",
    "\n",
    "        # compute expected svf\n",
    "        mu_exp = compute_state_visition_freq(P_a, g.state2idx((0,1,1)), g.length_max, policy)\n",
    "\n",
    "        # compute gradients on rewards:\n",
    "        grad_r = mu_D - mu_exp\n",
    "\n",
    "        error_history.append(sum(grad_r**2)) \n",
    "        \n",
    "        plt.plot(error_history)\n",
    "        IPython.display.clear_output(wait=True)\n",
    "        IPython.display.display(plt.show())\n",
    "\n",
    "            \n",
    "        # apply gradients to the neural network\n",
    "        opt.zero_grad()\n",
    "        torch.autograd.backward([model(feat_map)], [torch.tensor(grad_r.reshape((1,5,3,4)))]) \n",
    "        opt.step()\n",
    "\n",
    "\n",
    "    rewards = model.get_reward_mat(feat_map)\n",
    "        \n",
    "    return rewards, policy"
   ]
  },
  {
   "cell_type": "code",
   "execution_count": 492,
   "metadata": {},
   "outputs": [
    {
     "data": {
      "image/png": "[encoded data removed]",
      "text/plain": [
       "<Figure size 432x288 with 1 Axes>"
      ]
     },
     "metadata": {
      "needs_background": "light"
     },
     "output_type": "display_data"
    },
    {
     "data": {
      "text/plain": [
       "None"
      ]
     },
     "metadata": {},
     "output_type": "display_data"
    }
   ],
   "source": [
    "rewards,policy = deep_maxent_irl(feat_map, P, trajs, 0.1, 20)"
   ]
  },
  {
   "cell_type": "code",
   "execution_count": 493,
   "metadata": {},
   "outputs": [
    {
     "data": {
      "image/png": "[encoded data removed]",
      "text/plain": [
       "<Figure size 432x288 with 1 Axes>"
      ]
     },
     "metadata": {
      "needs_background": "light"
     },
     "output_type": "display_data"
    },
    {
     "data": {
      "text/plain": [
       "array([[-0.07499631, -0.1967707 , -0.66800904, -0.11738005],\n",
       "       [-0.        , -0.        , -0.48121646, -0.4125611 ],\n",
       "       [-0.        , -0.        , -0.07293803, -0.24021767]],\n",
       "      dtype=float32)"
      ]
     },
     "execution_count": 493,
     "metadata": {},
     "output_type": "execute_result"
    }
   ],
   "source": [
    "rewards_grid = rewards.reshape((g.length_max, g.height, g.width))\n",
    "rewards_grid = rewards_grid[0,:,:]\n",
    "\n",
    "# Map\n",
    "\n",
    "plt.imshow(rewards_grid);\n",
    "plt.title('Rewards')\n",
    "plt.show()\n",
    "\n",
    "rewards_grid"
   ]
  },
  {
   "cell_type": "code",
   "execution_count": 494,
   "metadata": {
    "scrolled": true
   },
   "outputs": [
    {
     "data": {
      "text/plain": [
       "[[5, 21, 33, 45, 53],\n",
       " [5, 14, 30, 37, 53],\n",
       " [5, 17, 33, 46, 53],\n",
       " [5, 17, 34, 46, 53],\n",
       " [5, 21, 33, 42, 53],\n",
       " [5, 18, 27, 42, 53],\n",
       " [5, 13, 25, 37, 53],\n",
       " [5, 18, 30, 37, 53],\n",
       " [5, 21, 30, 46, 53],\n",
       " [5, 17, 33, 45, 53],\n",
       " [5, 22, 34, 46, 53],\n",
       " [5, 18, 33, 46, 53],\n",
       " [5, 16, 33, 40, 53],\n",
       " [5, 14, 27, 42, 53],\n",
       " [5, 14, 29, 41, 53],\n",
       " [5, 20, 33, 44, 53],\n",
       " [5, 14, 31, 46, 53],\n",
       " [5, 16, 33, 40, 53],\n",
       " [5, 18, 35, 42, 53],\n",
       " [5, 20, 29, 40, 53],\n",
       " [5, 20, 32, 44, 53],\n",
       " [5, 21, 30, 45, 53],\n",
       " [5, 14, 26, 38, 53],\n",
       " [5, 17, 30, 38, 53],\n",
       " [5, 18, 26, 38, 53],\n",
       " [5, 13, 25, 37, 53],\n",
       " [5, 14, 30, 46, 53],\n",
       " [5, 21, 34, 46, 53],\n",
       " [5, 14, 26, 38, 53],\n",
       " [5, 14, 26, 42, 53],\n",
       " [5, 14, 26, 41, 53],\n",
       " [5, 20, 33, 46, 53],\n",
       " [5, 16, 25, 40, 53],\n",
       " [5, 22, 34, 46, 53],\n",
       " [5, 22, 34, 46, 53],\n",
       " [5, 18, 34, 41, 53],\n",
       " [5, 18, 33, 42, 53],\n",
       " [5, 22, 34, 46, 53],\n",
       " [5, 18, 26, 38, 53],\n",
       " [5, 18, 29, 38, 53],\n",
       " [5, 17, 34, 45, 53],\n",
       " [5, 12, 25, 40, 53],\n",
       " [5, 20, 33, 45, 53],\n",
       " [5, 14, 26, 38, 53],\n",
       " [5, 21, 33, 45, 53],\n",
       " [5, 21, 33, 41, 53],\n",
       " [5, 18, 31, 46, 53],\n",
       " [5, 21, 33, 45, 53],\n",
       " [5, 21, 29, 42, 53],\n",
       " [5, 18, 34, 42, 53]]"
      ]
     },
     "execution_count": 494,
     "metadata": {},
     "output_type": "execute_result"
    }
   ],
   "source": [
    "trajs = generate_demonstrations(g, policy, 50, 5)\n",
    "trajs"
   ]
  },
  {
   "cell_type": "code",
   "execution_count": 495,
   "metadata": {},
   "outputs": [
    {
     "data": {
      "text/plain": [
       "array([[  1.,  10.,  24.,   2.],\n",
       "       [  8., 113.,  25.,   2.],\n",
       "       [  8.,  30.,  26.,   1.]])"
      ]
     },
     "execution_count": 495,
     "metadata": {},
     "output_type": "execute_result"
    }
   ],
   "source": [
    "freq = np.zeros((3,4))\n",
    "for traj in trajs:\n",
    "    for idx in traj:\n",
    "        state = g.idx2state(idx)\n",
    "        freq[state[1], state[2]] += 1\n",
    "        \n",
    "freq"
   ]
  },
  {
   "cell_type": "code",
   "execution_count": null,
   "metadata": {},
   "outputs": [],
   "source": []
  },
  {
   "cell_type": "code",
   "execution_count": null,
   "metadata": {},
   "outputs": [],
   "source": []
  },
  {
   "cell_type": "code",
   "execution_count": null,
   "metadata": {},
   "outputs": [],
   "source": []
  }
 ],
 "metadata": {
  "kernelspec": {
   "display_name": "Python 3",
   "language": "python",
   "name": "python3"
  },
  "language_info": {
   "codemirror_mode": {
    "name": "ipython",
    "version": 3
   },
   "file_extension": ".py",
   "mimetype": "text/x-python",
   "name": "python",
   "nbconvert_exporter": "python",
   "pygments_lexer": "ipython3",
   "version": "3.7.4"
  }
 },
 "nbformat": 4,
 "nbformat_minor": 2
}
